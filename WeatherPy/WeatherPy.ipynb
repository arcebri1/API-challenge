{
 "cells": [
  {
   "cell_type": "markdown",
   "metadata": {},
   "source": [
    "# WeatherPy\n",
    "----\n",
    "\n",
    "#### Analysis\n",
    "* Instructions have been included for each segment. You do not have to follow them exactly, but they are included to help you think through the steps."
   ]
  },
  {
   "cell_type": "code",
   "execution_count": 1,
   "metadata": {
    "scrolled": true
   },
   "outputs": [],
   "source": [
    "import matplotlib.pyplot as plt\n",
    "import requests\n",
    "from scipy import stats\n",
    "import pandas as pd\n",
    "import json\n",
    "import random\n",
    "import numpy as np\n",
    "from scipy.stats import linregress\n",
    "from api_keys import weather_api_key\n",
    "from citipy import citipy\n"
   ]
  },
  {
   "cell_type": "code",
   "execution_count": null,
   "metadata": {},
   "outputs": [],
   "source": [
    "# url = \"http://api.openweathermap.org/data/2.5/weather?\"\n",
    "# # \"api.openweathermap.org/data/2.5/weather?q={city name}&appid={API key}\"\n",
    "# # api.openweathermap.org/data/2.5/find?q=London&units=imperial"
   ]
  },
  {
   "cell_type": "code",
   "execution_count": null,
   "metadata": {},
   "outputs": [],
   "source": [
    "# city=\"albany\"\n",
    "# units=\"metric\""
   ]
  },
  {
   "cell_type": "code",
   "execution_count": null,
   "metadata": {},
   "outputs": [],
   "source": [
    "# query_url = f\"{url}appid={weather_api_key}&q={city}&units={units}\""
   ]
  },
  {
   "cell_type": "code",
   "execution_count": null,
   "metadata": {},
   "outputs": [],
   "source": [
    "# weather_response=requests.get(query_url)"
   ]
  },
  {
   "cell_type": "code",
   "execution_count": null,
   "metadata": {},
   "outputs": [],
   "source": [
    "# weather_json=weather_response.json()"
   ]
  },
  {
   "cell_type": "code",
   "execution_count": null,
   "metadata": {},
   "outputs": [],
   "source": [
    "# weather_json"
   ]
  },
  {
   "cell_type": "markdown",
   "metadata": {},
   "source": [
    "## Generate Cities List"
   ]
  },
  {
   "cell_type": "code",
   "execution_count": 2,
   "metadata": {},
   "outputs": [],
   "source": [
    "lat_lngl=[]\n",
    "citiesl=[]"
   ]
  },
  {
   "cell_type": "code",
   "execution_count": 3,
   "metadata": {},
   "outputs": [],
   "source": [
    "latr=np.random.uniform(-90.00, 90.00, size =1000)\n",
    "# latr"
   ]
  },
  {
   "cell_type": "code",
   "execution_count": 4,
   "metadata": {},
   "outputs": [],
   "source": [
    "lngr=np.random.uniform(-180.00, 180.00, size =1000)\n",
    "# lngr"
   ]
  },
  {
   "cell_type": "code",
   "execution_count": 5,
   "metadata": {},
   "outputs": [],
   "source": [
    "# lat_lngl=(latr,lngr)\n",
    "# list_latlng=next(zip(latr,lngr))\n",
    "# list_latlng=zip(latr,lngr)\n",
    "list_latlng=list(zip(latr,lngr))\n",
    "# print(list_latlng)\n",
    "# list_latlng[0]"
   ]
  },
  {
   "cell_type": "code",
   "execution_count": 6,
   "metadata": {},
   "outputs": [],
   "source": [
    "for lat_and_lng in list_latlng:\n",
    "    city = citipy.nearest_city(lat_and_lng[0],lat_and_lng[1])\n",
    "    city_name=city.city_name\n",
    "    if city_name not in citiesl:\n",
    "        citiesl.append(city_name)\n",
    "# print(citiesl)\n",
    "# len(citiesl)"
   ]
  },
  {
   "cell_type": "code",
   "execution_count": null,
   "metadata": {},
   "outputs": [],
   "source": [
    "# cities=[]\n",
    "# responses=[]"
   ]
  },
  {
   "cell_type": "code",
   "execution_count": null,
   "metadata": {},
   "outputs": [],
   "source": [
    "# for city in responses:\n",
    "#     weather_data=requests.get(query_url)\n",
    "#     weather_json=weather_data.json()\n",
    "#     Lat.append(weather_json[][])\n",
    "# Lng.append(weather_json[][])\n",
    "# Max_Temp.append(weather_json[][])\n",
    "# Humidity.append(weather_json[][])\n",
    "# Cloudiness.append(weather_json[][])\n",
    "# Wind Speed.append(weather_json[][])\n",
    "# Country.append(weather_json[][])\n",
    "# Date.append(weather_json[][])"
   ]
  },
  {
   "cell_type": "code",
   "execution_count": null,
   "metadata": {},
   "outputs": [],
   "source": [
    "# print(f\"Processing Record 1 of Set 1 | {city}\")"
   ]
  },
  {
   "cell_type": "code",
   "execution_count": null,
   "metadata": {},
   "outputs": [],
   "source": [
    "# print(\"City not found. Skipping...\")"
   ]
  },
  {
   "cell_type": "code",
   "execution_count": null,
   "metadata": {},
   "outputs": [],
   "source": [
    "# >>> from citipy import citipy\n",
    "# >>> city = citipy.nearest_city(22.99, 120.21)\n",
    "# >>> city\n",
    "# <citipy.City instance at 0x1069b6518>\n",
    "# >>>\n",
    "# >>> city.city_name     # Tainan, my home town\n",
    "# 'tainan'\n",
    "# >>>\n",
    "# >>> city.country_code\n",
    "# 'tw'                "
   ]
  },
  {
   "cell_type": "markdown",
   "metadata": {},
   "source": [
    "### Perform API Calls\n",
    "* Perform a weather check on each city using a series of successive API calls.\n",
    "* Include a print log of each city as it'sbeing processed (with the city number and city name).\n"
   ]
  },
  {
   "cell_type": "code",
   "execution_count": 24,
   "metadata": {},
   "outputs": [],
   "source": [
    "url = \"http://api.openweathermap.org/data/2.5/weather?\"\n",
    "# \"api.openweathermap.org/data/2.5/weather?q={city name}&appid={API key}\"\n",
    "# api.openweathermap.org/data/2.5/find?q=London&units=imperial"
   ]
  },
  {
   "cell_type": "code",
   "execution_count": null,
   "metadata": {},
   "outputs": [],
   "source": [
    "# query_url = f\"{url}appid={weather_api_key}&units={units}\""
   ]
  },
  {
   "cell_type": "code",
   "execution_count": null,
   "metadata": {},
   "outputs": [],
   "source": [
    "# weather_response=requests.get(query_url)"
   ]
  },
  {
   "cell_type": "code",
   "execution_count": null,
   "metadata": {},
   "outputs": [],
   "source": [
    "# weather_json=weather_response.json()"
   ]
  },
  {
   "cell_type": "code",
   "execution_count": 36,
   "metadata": {},
   "outputs": [
    {
     "name": "stdout",
     "output_type": "stream",
     "text": [
      "{\n",
      "    \"base\": \"stations\",\n",
      "    \"clouds\": {\n",
      "        \"all\": 100\n",
      "    },\n",
      "    \"cod\": 200,\n",
      "    \"coord\": {\n",
      "        \"lat\": -46.6,\n",
      "        \"lon\": 168.33\n",
      "    },\n",
      "    \"dt\": 1601338074,\n",
      "    \"id\": 2206939,\n",
      "    \"main\": {\n",
      "        \"feels_like\": 23.4,\n",
      "        \"humidity\": 85,\n",
      "        \"pressure\": 1005,\n",
      "        \"temp\": 36,\n",
      "        \"temp_max\": 36,\n",
      "        \"temp_min\": 36\n",
      "    },\n",
      "    \"name\": \"Bluff\",\n",
      "    \"sys\": {\n",
      "        \"country\": \"NZ\",\n",
      "        \"id\": 2008959,\n",
      "        \"sunrise\": 1601317318,\n",
      "        \"sunset\": 1601362321,\n",
      "        \"type\": 3\n",
      "    },\n",
      "    \"timezone\": 46800,\n",
      "    \"visibility\": 8871,\n",
      "    \"weather\": [\n",
      "        {\n",
      "            \"description\": \"overcast clouds\",\n",
      "            \"icon\": \"04d\",\n",
      "            \"id\": 804,\n",
      "            \"main\": \"Clouds\"\n",
      "        }\n",
      "    ],\n",
      "    \"wind\": {\n",
      "        \"deg\": 209,\n",
      "        \"gust\": 28.01,\n",
      "        \"speed\": 15.99\n",
      "    }\n",
      "}\n"
     ]
    }
   ],
   "source": [
    "url = \"http://api.openweathermap.org/data/2.5/weather?\"\n",
    "query_url = f\"{url}appid={weather_api_key}&units={units}&q=\"\n",
    "# weather_response=requests.get(query_url+citiesl).json()\n",
    "weather_response=requests.get(query_url+city_name).json()\n",
    "print(json.dumps(weather_response, indent=4,sort_keys=True))\n"
   ]
  },
  {
   "cell_type": "code",
   "execution_count": 25,
   "metadata": {},
   "outputs": [],
   "source": [
    "City=[]\n",
    "Lat=[]\n",
    "Lng=[]\n",
    "Max_Temp=[] \n",
    "Humidity=[]\n",
    "Cloudiness=[]\n",
    "Wind_Speed=[]\n",
    "Country=[]\n",
    "Date=[]"
   ]
  },
  {
   "cell_type": "code",
   "execution_count": 26,
   "metadata": {},
   "outputs": [],
   "source": [
    "units=\"imperial\""
   ]
  },
  {
   "cell_type": "code",
   "execution_count": null,
   "metadata": {},
   "outputs": [],
   "source": [
    "# print(\"Beginning Data Retrieval\")     \n",
    "# print(\"-----------------------------\")"
   ]
  },
  {
   "cell_type": "code",
   "execution_count": 27,
   "metadata": {},
   "outputs": [],
   "source": [
    "query_url = f\"{url}appid={weather_api_key}&units={units}&q=\"\n",
    "# weather_response=requests.get(query_url)"
   ]
  },
  {
   "cell_type": "code",
   "execution_count": 49,
   "metadata": {},
   "outputs": [
    {
     "name": "stdout",
     "output_type": "stream",
     "text": [
      "Processing Record 1 of Set 1 | birjand\n",
      "Processing Record 1 of Set 1 | rawson\n",
      "Processing Record 1 of Set 1 | upernavik\n",
      "Processing Record 1 of Set 1 | barrow\n",
      "City not found. Skipping...\n",
      "Processing Record 1 of Set 1 | port alfred\n",
      "Processing Record 1 of Set 1 | yar-sale\n",
      "Processing Record 1 of Set 1 | punta arenas\n",
      "Processing Record 1 of Set 1 | butaritari\n",
      "Processing Record 1 of Set 1 | saint george\n",
      "Processing Record 1 of Set 1 | yellowknife\n",
      "Processing Record 1 of Set 1 | mataura\n",
      "Processing Record 1 of Set 1 | busselton\n",
      "Processing Record 1 of Set 1 | baykit\n",
      "City not found. Skipping...\n",
      "City not found. Skipping...\n",
      "Processing Record 1 of Set 1 | sitka\n",
      "City not found. Skipping...\n",
      "Processing Record 1 of Set 1 | saldanha\n",
      "Processing Record 1 of Set 1 | arraial do cabo\n",
      "Processing Record 1 of Set 1 | kapaa\n",
      "City not found. Skipping...\n",
      "Processing Record 1 of Set 1 | burnie\n",
      "Processing Record 1 of Set 1 | charter oak\n",
      "Processing Record 1 of Set 1 | dzaoudzi\n",
      "Processing Record 1 of Set 1 | rikitea\n",
      "Processing Record 1 of Set 1 | avarua\n",
      "Processing Record 1 of Set 1 | aklavik\n",
      "Processing Record 1 of Set 1 | hermanus\n",
      "Processing Record 1 of Set 1 | nanortalik\n",
      "Processing Record 1 of Set 1 | qaanaaq\n",
      "Processing Record 1 of Set 1 | kurchum\n",
      "Processing Record 1 of Set 1 | sao gabriel da cachoeira\n",
      "Processing Record 1 of Set 1 | cabo san lucas\n",
      "Processing Record 1 of Set 1 | mildura\n",
      "City not found. Skipping...\n",
      "Processing Record 1 of Set 1 | balikpapan\n",
      "Processing Record 1 of Set 1 | ushuaia\n",
      "Processing Record 1 of Set 1 | krasnaya gorka\n",
      "Processing Record 1 of Set 1 | victoria\n",
      "Processing Record 1 of Set 1 | new norfolk\n",
      "Processing Record 1 of Set 1 | bredasdorp\n",
      "Processing Record 1 of Set 1 | vaini\n",
      "Processing Record 1 of Set 1 | north myrtle beach\n",
      "Processing Record 1 of Set 1 | bridlington\n",
      "Processing Record 1 of Set 1 | ribeira grande\n",
      "Processing Record 1 of Set 1 | ponta do sol\n",
      "Processing Record 1 of Set 1 | spearfish\n",
      "Processing Record 1 of Set 1 | makinsk\n",
      "City not found. Skipping...\n",
      "Processing Record 1 of Set 1 | china\n",
      "Processing Record 1 of Set 1 | atuona\n",
      "Processing Record 1 of Set 1 | albany\n",
      "Processing Record 1 of Set 1 | sandpoint\n",
      "Processing Record 1 of Set 1 | lebu\n",
      "Processing Record 1 of Set 1 | ramygala\n",
      "Processing Record 1 of Set 1 | hammerfest\n",
      "Processing Record 1 of Set 1 | hilo\n",
      "Processing Record 1 of Set 1 | vila franca do campo\n",
      "Processing Record 1 of Set 1 | isfana\n",
      "Processing Record 1 of Set 1 | xiuyan\n",
      "Processing Record 1 of Set 1 | seoul\n",
      "Processing Record 1 of Set 1 | ixtapa\n",
      "Processing Record 1 of Set 1 | namatanai\n",
      "Processing Record 1 of Set 1 | vanderhoof\n",
      "Processing Record 1 of Set 1 | lugovoy\n",
      "Processing Record 1 of Set 1 | punto fijo\n",
      "Processing Record 1 of Set 1 | east london\n",
      "City not found. Skipping...\n",
      "Processing Record 1 of Set 1 | ust-nera\n",
      "Processing Record 1 of Set 1 | sikonge\n",
      "Processing Record 1 of Set 1 | yichun\n",
      "Processing Record 1 of Set 1 | presidencia roque saenz pena\n",
      "Processing Record 1 of Set 1 | georgetown\n",
      "Processing Record 1 of Set 1 | jamestown\n",
      "City not found. Skipping...\n",
      "Processing Record 1 of Set 1 | khargone\n",
      "Processing Record 1 of Set 1 | souillac\n",
      "City not found. Skipping...\n",
      "Processing Record 1 of Set 1 | awbari\n",
      "Processing Record 1 of Set 1 | margate\n",
      "Processing Record 1 of Set 1 | santa maria\n",
      "City not found. Skipping...\n",
      "Processing Record 1 of Set 1 | chuy\n",
      "Processing Record 1 of Set 1 | joensuu\n",
      "Processing Record 1 of Set 1 | sorland\n",
      "Processing Record 1 of Set 1 | lamu\n",
      "Processing Record 1 of Set 1 | ginda\n",
      "Processing Record 1 of Set 1 | fortuna\n",
      "Processing Record 1 of Set 1 | puerto ayora\n",
      "Processing Record 1 of Set 1 | carnarvon\n",
      "Processing Record 1 of Set 1 | mackenzie\n",
      "Processing Record 1 of Set 1 | fairbanks\n",
      "Processing Record 1 of Set 1 | hobart\n",
      "Processing Record 1 of Set 1 | atbasar\n",
      "Processing Record 1 of Set 1 | emet\n",
      "Processing Record 1 of Set 1 | bengkulu\n",
      "City not found. Skipping...\n",
      "Processing Record 1 of Set 1 | hasaki\n",
      "Processing Record 1 of Set 1 | hithadhoo\n",
      "Processing Record 1 of Set 1 | chicama\n",
      "Processing Record 1 of Set 1 | mount gambier\n",
      "Processing Record 1 of Set 1 | rundu\n",
      "Processing Record 1 of Set 1 | khatanga\n",
      "Processing Record 1 of Set 1 | guerrero negro\n",
      "Processing Record 1 of Set 1 | norman wells\n",
      "Processing Record 1 of Set 1 | iqaluit\n",
      "Processing Record 1 of Set 1 | torbay\n",
      "Processing Record 1 of Set 1 | lorengau\n",
      "Processing Record 1 of Set 1 | hastings\n",
      "Processing Record 1 of Set 1 | taoudenni\n",
      "Processing Record 1 of Set 1 | saskylakh\n",
      "Processing Record 1 of Set 1 | katsuura\n",
      "Processing Record 1 of Set 1 | platanos\n",
      "Processing Record 1 of Set 1 | kodiak\n",
      "Processing Record 1 of Set 1 | faanui\n",
      "Processing Record 1 of Set 1 | sao filipe\n",
      "Processing Record 1 of Set 1 | slave lake\n",
      "Processing Record 1 of Set 1 | muros\n",
      "Processing Record 1 of Set 1 | duminichi\n",
      "Processing Record 1 of Set 1 | vuktyl\n",
      "Processing Record 1 of Set 1 | ambilobe\n",
      "Processing Record 1 of Set 1 | marawi\n",
      "Processing Record 1 of Set 1 | valenca do piaui\n",
      "Processing Record 1 of Set 1 | eskilstuna\n",
      "Processing Record 1 of Set 1 | san patricio\n",
      "Processing Record 1 of Set 1 | todos santos\n",
      "Processing Record 1 of Set 1 | karratha\n",
      "Processing Record 1 of Set 1 | tiksi\n",
      "Processing Record 1 of Set 1 | wittmund\n",
      "Processing Record 1 of Set 1 | cape town\n",
      "Processing Record 1 of Set 1 | pocinhos\n",
      "Processing Record 1 of Set 1 | mosquera\n",
      "Processing Record 1 of Set 1 | athabasca\n",
      "Processing Record 1 of Set 1 | yeppoon\n",
      "Processing Record 1 of Set 1 | mayo\n",
      "Processing Record 1 of Set 1 | fort nelson\n",
      "Processing Record 1 of Set 1 | mar del plata\n",
      "Processing Record 1 of Set 1 | tuntum\n",
      "Processing Record 1 of Set 1 | pingzhuang\n",
      "Processing Record 1 of Set 1 | bathsheba\n",
      "Processing Record 1 of Set 1 | leshukonskoye\n",
      "Processing Record 1 of Set 1 | road town\n",
      "Processing Record 1 of Set 1 | codrington\n",
      "Processing Record 1 of Set 1 | am timan\n",
      "Processing Record 1 of Set 1 | skjervoy\n",
      "Processing Record 1 of Set 1 | saint-denis\n",
      "Processing Record 1 of Set 1 | glen cove\n",
      "Processing Record 1 of Set 1 | nikolskoye\n",
      "Processing Record 1 of Set 1 | pangai\n",
      "City not found. Skipping...\n",
      "Processing Record 1 of Set 1 | bagotville\n",
      "Processing Record 1 of Set 1 | paamiut\n",
      "Processing Record 1 of Set 1 | torata\n",
      "Processing Record 1 of Set 1 | xinmin\n",
      "Processing Record 1 of Set 1 | nizhniy odes\n",
      "Processing Record 1 of Set 1 | hoima\n",
      "Processing Record 1 of Set 1 | flinders\n",
      "Processing Record 1 of Set 1 | poum\n",
      "Processing Record 1 of Set 1 | coahuayana\n",
      "Processing Record 1 of Set 1 | bluff\n",
      "Processing Record 1 of Set 1 | namibe\n",
      "Processing Record 1 of Set 1 | faya\n",
      "Processing Record 1 of Set 1 | chernyshevskiy\n",
      "Processing Record 1 of Set 1 | dingle\n",
      "Processing Record 1 of Set 1 | majene\n",
      "City not found. Skipping...\n",
      "City not found. Skipping...\n",
      "City not found. Skipping...\n",
      "Processing Record 1 of Set 1 | mahebourg\n",
      "Processing Record 1 of Set 1 | evanston\n",
      "Processing Record 1 of Set 1 | vostok\n",
      "Processing Record 1 of Set 1 | severo-kurilsk\n",
      "Processing Record 1 of Set 1 | alice springs\n",
      "Processing Record 1 of Set 1 | padang\n",
      "Processing Record 1 of Set 1 | saint-pierre\n",
      "Processing Record 1 of Set 1 | husavik\n",
      "Processing Record 1 of Set 1 | okha\n",
      "Processing Record 1 of Set 1 | longyearbyen\n",
      "Processing Record 1 of Set 1 | arman\n",
      "City not found. Skipping...\n",
      "Processing Record 1 of Set 1 | dikson\n",
      "Processing Record 1 of Set 1 | san quintin\n",
      "Processing Record 1 of Set 1 | lukovetskiy\n",
      "Processing Record 1 of Set 1 | quatre cocos\n",
      "Processing Record 1 of Set 1 | los llanos de aridane\n",
      "Processing Record 1 of Set 1 | henties bay\n",
      "Processing Record 1 of Set 1 | tuktoyaktuk\n",
      "City not found. Skipping...\n",
      "Processing Record 1 of Set 1 | joshimath\n",
      "Processing Record 1 of Set 1 | aksarka\n",
      "Processing Record 1 of Set 1 | linxia\n",
      "Processing Record 1 of Set 1 | berdigestyakh\n",
      "Processing Record 1 of Set 1 | ahipara\n",
      "Processing Record 1 of Set 1 | noumea\n",
      "Processing Record 1 of Set 1 | hamilton\n",
      "Processing Record 1 of Set 1 | cherskiy\n",
      "Processing Record 1 of Set 1 | bethel\n",
      "Processing Record 1 of Set 1 | yarada\n",
      "Processing Record 1 of Set 1 | brokopondo\n",
      "Processing Record 1 of Set 1 | denpasar\n",
      "Processing Record 1 of Set 1 | edeia\n",
      "Processing Record 1 of Set 1 | port hardy\n",
      "Processing Record 1 of Set 1 | san pedro\n",
      "Processing Record 1 of Set 1 | flin flon\n",
      "Processing Record 1 of Set 1 | male\n",
      "Processing Record 1 of Set 1 | kindu\n",
      "Processing Record 1 of Set 1 | bardiyah\n"
     ]
    },
    {
     "name": "stdout",
     "output_type": "stream",
     "text": [
      "Processing Record 1 of Set 1 | kaitangata\n",
      "Processing Record 1 of Set 1 | sarakhs\n",
      "Processing Record 1 of Set 1 | tasiilaq\n",
      "Processing Record 1 of Set 1 | te anau\n",
      "Processing Record 1 of Set 1 | bilibino\n",
      "City not found. Skipping...\n",
      "Processing Record 1 of Set 1 | vestmannaeyjar\n",
      "City not found. Skipping...\n",
      "Processing Record 1 of Set 1 | pafos\n",
      "Processing Record 1 of Set 1 | lannion\n",
      "Processing Record 1 of Set 1 | sioux lookout\n",
      "City not found. Skipping...\n",
      "Processing Record 1 of Set 1 | mus\n",
      "Processing Record 1 of Set 1 | mao\n",
      "City not found. Skipping...\n",
      "Processing Record 1 of Set 1 | kruisfontein\n",
      "City not found. Skipping...\n",
      "Processing Record 1 of Set 1 | hay river\n",
      "Processing Record 1 of Set 1 | qostanay\n",
      "Processing Record 1 of Set 1 | geraldton\n",
      "Processing Record 1 of Set 1 | port shepstone\n",
      "Processing Record 1 of Set 1 | chiang kham\n",
      "Processing Record 1 of Set 1 | cururupu\n",
      "Processing Record 1 of Set 1 | talnakh\n",
      "Processing Record 1 of Set 1 | dakar\n",
      "Processing Record 1 of Set 1 | brigantine\n",
      "Processing Record 1 of Set 1 | isangel\n",
      "Processing Record 1 of Set 1 | springfield\n",
      "Processing Record 1 of Set 1 | sambava\n",
      "Processing Record 1 of Set 1 | belaya gora\n",
      "Processing Record 1 of Set 1 | port said\n",
      "Processing Record 1 of Set 1 | clyde river\n",
      "Processing Record 1 of Set 1 | kanigiri\n",
      "Processing Record 1 of Set 1 | youghal\n",
      "City not found. Skipping...\n",
      "Processing Record 1 of Set 1 | sechura\n",
      "Processing Record 1 of Set 1 | sola\n",
      "Processing Record 1 of Set 1 | ribas do rio pardo\n",
      "Processing Record 1 of Set 1 | mecca\n",
      "City not found. Skipping...\n",
      "Processing Record 1 of Set 1 | poyarkovo\n",
      "Processing Record 1 of Set 1 | sullana\n",
      "Processing Record 1 of Set 1 | ilulissat\n",
      "Processing Record 1 of Set 1 | foumban\n",
      "Processing Record 1 of Set 1 | kadoma\n",
      "Processing Record 1 of Set 1 | saint-philippe\n",
      "City not found. Skipping...\n",
      "Processing Record 1 of Set 1 | sombrio\n",
      "City not found. Skipping...\n",
      "Processing Record 1 of Set 1 | kapit\n",
      "City not found. Skipping...\n",
      "Processing Record 1 of Set 1 | lagoa\n",
      "Processing Record 1 of Set 1 | omboue\n",
      "Processing Record 1 of Set 1 | half moon bay\n",
      "Processing Record 1 of Set 1 | antofagasta\n",
      "Processing Record 1 of Set 1 | matagami\n",
      "Processing Record 1 of Set 1 | general roca\n",
      "Processing Record 1 of Set 1 | santa fe\n",
      "Processing Record 1 of Set 1 | esperance\n",
      "Processing Record 1 of Set 1 | castro\n",
      "Processing Record 1 of Set 1 | srednekolymsk\n",
      "Processing Record 1 of Set 1 | berlevag\n",
      "Processing Record 1 of Set 1 | thompson\n",
      "Processing Record 1 of Set 1 | nevel\n",
      "Processing Record 1 of Set 1 | torrevieja\n",
      "Processing Record 1 of Set 1 | tawau\n",
      "Processing Record 1 of Set 1 | nisia floresta\n",
      "Processing Record 1 of Set 1 | nikolayevskaya\n",
      "Processing Record 1 of Set 1 | puerto escondido\n",
      "Processing Record 1 of Set 1 | kattivakkam\n",
      "Processing Record 1 of Set 1 | pevek\n",
      "Processing Record 1 of Set 1 | ancud\n",
      "Processing Record 1 of Set 1 | biak\n",
      "Processing Record 1 of Set 1 | senai\n",
      "Processing Record 1 of Set 1 | sterling\n",
      "Processing Record 1 of Set 1 | lompoc\n",
      "Processing Record 1 of Set 1 | callaway\n",
      "Processing Record 1 of Set 1 | buraydah\n",
      "Processing Record 1 of Set 1 | miragoane\n",
      "Processing Record 1 of Set 1 | cockburn town\n",
      "Processing Record 1 of Set 1 | cayenne\n",
      "Processing Record 1 of Set 1 | brae\n",
      "City not found. Skipping...\n",
      "Processing Record 1 of Set 1 | okhotsk\n",
      "Processing Record 1 of Set 1 | port macquarie\n",
      "Processing Record 1 of Set 1 | rio grande\n",
      "Processing Record 1 of Set 1 | san andres\n",
      "Processing Record 1 of Set 1 | beira\n",
      "Processing Record 1 of Set 1 | mizdah\n",
      "Processing Record 1 of Set 1 | camabatela\n",
      "Processing Record 1 of Set 1 | kieta\n",
      "Processing Record 1 of Set 1 | miyako\n",
      "Processing Record 1 of Set 1 | sharan\n",
      "Processing Record 1 of Set 1 | mikkeli\n",
      "Processing Record 1 of Set 1 | port elizabeth\n",
      "Processing Record 1 of Set 1 | amga\n",
      "Processing Record 1 of Set 1 | swan hill\n",
      "Processing Record 1 of Set 1 | luena\n",
      "Processing Record 1 of Set 1 | port keats\n",
      "Processing Record 1 of Set 1 | forest grove\n",
      "Processing Record 1 of Set 1 | salinopolis\n",
      "Processing Record 1 of Set 1 | wonthaggi\n",
      "Processing Record 1 of Set 1 | luanda\n",
      "Processing Record 1 of Set 1 | kutahya\n",
      "Processing Record 1 of Set 1 | san cristobal\n",
      "Processing Record 1 of Set 1 | tommot\n",
      "Processing Record 1 of Set 1 | shimoda\n",
      "Processing Record 1 of Set 1 | la palma\n",
      "City not found. Skipping...\n",
      "Processing Record 1 of Set 1 | remanso\n",
      "Processing Record 1 of Set 1 | nemuro\n",
      "Processing Record 1 of Set 1 | tabou\n",
      "Processing Record 1 of Set 1 | sisimiut\n",
      "City not found. Skipping...\n",
      "Processing Record 1 of Set 1 | sao jose da coroa grande\n",
      "Processing Record 1 of Set 1 | chokurdakh\n",
      "Processing Record 1 of Set 1 | kurduvadi\n",
      "Processing Record 1 of Set 1 | kouqian\n",
      "City not found. Skipping...\n",
      "Processing Record 1 of Set 1 | borshchiv\n",
      "Processing Record 1 of Set 1 | atar\n",
      "Processing Record 1 of Set 1 | kavieng\n",
      "Processing Record 1 of Set 1 | mount isa\n",
      "Processing Record 1 of Set 1 | parakai\n",
      "Processing Record 1 of Set 1 | port-gentil\n",
      "Processing Record 1 of Set 1 | grindavik\n",
      "Processing Record 1 of Set 1 | durban\n",
      "Processing Record 1 of Set 1 | mehamn\n",
      "City not found. Skipping...\n",
      "Processing Record 1 of Set 1 | cumberland\n",
      "Processing Record 1 of Set 1 | shizunai\n",
      "Processing Record 1 of Set 1 | hami\n",
      "Processing Record 1 of Set 1 | waren\n",
      "Processing Record 1 of Set 1 | manuk mangkaw\n",
      "Processing Record 1 of Set 1 | viedma\n",
      "Processing Record 1 of Set 1 | hambantota\n",
      "Processing Record 1 of Set 1 | cidreira\n",
      "Processing Record 1 of Set 1 | srandakan\n",
      "Processing Record 1 of Set 1 | dunedin\n",
      "Processing Record 1 of Set 1 | pinar del rio\n",
      "Processing Record 1 of Set 1 | haines junction\n",
      "City not found. Skipping...\n",
      "Processing Record 1 of Set 1 | verkhnyaya inta\n",
      "Processing Record 1 of Set 1 | kysyl-syr\n",
      "Processing Record 1 of Set 1 | concarneau\n",
      "Processing Record 1 of Set 1 | ketchikan\n",
      "Processing Record 1 of Set 1 | rosario\n",
      "Processing Record 1 of Set 1 | petropavlovsk-kamchatskiy\n",
      "Processing Record 1 of Set 1 | la ronge\n",
      "Processing Record 1 of Set 1 | sarangani\n",
      "Processing Record 1 of Set 1 | airai\n",
      "Processing Record 1 of Set 1 | octeville\n",
      "Processing Record 1 of Set 1 | waukegan\n",
      "Processing Record 1 of Set 1 | bandarbeyla\n",
      "Processing Record 1 of Set 1 | constantine\n",
      "Processing Record 1 of Set 1 | barabinsk\n",
      "Processing Record 1 of Set 1 | harper\n",
      "Processing Record 1 of Set 1 | krasnoselkup\n",
      "Processing Record 1 of Set 1 | okahandja\n",
      "Processing Record 1 of Set 1 | pisco\n",
      "Processing Record 1 of Set 1 | komsomolskiy\n",
      "Processing Record 1 of Set 1 | carutapera\n",
      "Processing Record 1 of Set 1 | muriwai beach\n",
      "Processing Record 1 of Set 1 | coihaique\n",
      "Processing Record 1 of Set 1 | kurumkan\n",
      "Processing Record 1 of Set 1 | umm kaddadah\n",
      "Processing Record 1 of Set 1 | turochak\n",
      "Processing Record 1 of Set 1 | urgut\n",
      "Processing Record 1 of Set 1 | sumbe\n",
      "Processing Record 1 of Set 1 | grand gaube\n",
      "Processing Record 1 of Set 1 | goure\n",
      "Processing Record 1 of Set 1 | tuatapere\n",
      "Processing Record 1 of Set 1 | ipixuna\n",
      "Processing Record 1 of Set 1 | nazareno\n",
      "Processing Record 1 of Set 1 | barrhead\n",
      "Processing Record 1 of Set 1 | wukari\n",
      "Processing Record 1 of Set 1 | lundazi\n",
      "Processing Record 1 of Set 1 | yulara\n",
      "Processing Record 1 of Set 1 | matay\n",
      "Processing Record 1 of Set 1 | milkovo\n",
      "Processing Record 1 of Set 1 | bambous virieux\n",
      "Processing Record 1 of Set 1 | samarai\n",
      "Processing Record 1 of Set 1 | les cayes\n",
      "City not found. Skipping...\n",
      "City not found. Skipping...\n",
      "Processing Record 1 of Set 1 | miramar\n",
      "Processing Record 1 of Set 1 | tombouctou\n",
      "Processing Record 1 of Set 1 | domoni\n",
      "Processing Record 1 of Set 1 | chissamba\n",
      "Processing Record 1 of Set 1 | opuwo\n",
      "Processing Record 1 of Set 1 | marsa matruh\n",
      "Processing Record 1 of Set 1 | ulaangom\n",
      "Processing Record 1 of Set 1 | ihosy\n",
      "Processing Record 1 of Set 1 | micheweni\n",
      "Processing Record 1 of Set 1 | sakete\n",
      "City not found. Skipping...\n",
      "Processing Record 1 of Set 1 | labuhan\n",
      "Processing Record 1 of Set 1 | las cruces\n",
      "Processing Record 1 of Set 1 | kamina\n",
      "Processing Record 1 of Set 1 | smithers\n",
      "City not found. Skipping...\n",
      "City not found. Skipping...\n",
      "Processing Record 1 of Set 1 | hofn\n",
      "Processing Record 1 of Set 1 | bestobe\n",
      "Processing Record 1 of Set 1 | ceres\n",
      "Processing Record 1 of Set 1 | bobrov\n",
      "Processing Record 1 of Set 1 | hobyo\n",
      "Processing Record 1 of Set 1 | zyryanka\n",
      "Processing Record 1 of Set 1 | asyut\n",
      "Processing Record 1 of Set 1 | rodrigues alves\n"
     ]
    },
    {
     "name": "stdout",
     "output_type": "stream",
     "text": [
      "Processing Record 1 of Set 1 | walvis bay\n",
      "Processing Record 1 of Set 1 | divicani\n",
      "Processing Record 1 of Set 1 | encarnacion\n",
      "City not found. Skipping...\n",
      "Processing Record 1 of Set 1 | bossier city\n",
      "Processing Record 1 of Set 1 | myitkyina\n",
      "City not found. Skipping...\n",
      "Processing Record 1 of Set 1 | sibu\n",
      "Processing Record 1 of Set 1 | belyy yar\n",
      "Processing Record 1 of Set 1 | gravdal\n",
      "Processing Record 1 of Set 1 | ankazobe\n",
      "Processing Record 1 of Set 1 | agucadoura\n",
      "Processing Record 1 of Set 1 | marshall\n",
      "Processing Record 1 of Set 1 | daru\n",
      "Processing Record 1 of Set 1 | ravar\n",
      "Processing Record 1 of Set 1 | barcelos\n",
      "Processing Record 1 of Set 1 | ozinki\n",
      "Processing Record 1 of Set 1 | jalingo\n",
      "Processing Record 1 of Set 1 | laguna\n",
      "Processing Record 1 of Set 1 | sarkand\n",
      "Processing Record 1 of Set 1 | esso\n",
      "Processing Record 1 of Set 1 | koumac\n",
      "Processing Record 1 of Set 1 | deputatskiy\n",
      "Processing Record 1 of Set 1 | santa cruz\n",
      "Processing Record 1 of Set 1 | tautira\n",
      "Processing Record 1 of Set 1 | rincon\n",
      "Processing Record 1 of Set 1 | nicoya\n",
      "Processing Record 1 of Set 1 | edd\n",
      "Processing Record 1 of Set 1 | jizan\n",
      "Processing Record 1 of Set 1 | madimba\n",
      "Processing Record 1 of Set 1 | alofi\n",
      "Processing Record 1 of Set 1 | khorixas\n",
      "Processing Record 1 of Set 1 | halifax\n",
      "Processing Record 1 of Set 1 | sinnamary\n",
      "Processing Record 1 of Set 1 | mogok\n",
      "Processing Record 1 of Set 1 | ankang\n",
      "Processing Record 1 of Set 1 | ojinaga\n",
      "Processing Record 1 of Set 1 | novyy urengoy\n",
      "Processing Record 1 of Set 1 | alta floresta\n",
      "Processing Record 1 of Set 1 | baherden\n",
      "Processing Record 1 of Set 1 | northam\n",
      "Processing Record 1 of Set 1 | buala\n",
      "Processing Record 1 of Set 1 | cody\n",
      "Processing Record 1 of Set 1 | vao\n",
      "Processing Record 1 of Set 1 | verkhnevilyuysk\n",
      "Processing Record 1 of Set 1 | avera\n",
      "Processing Record 1 of Set 1 | san francisco\n",
      "Processing Record 1 of Set 1 | zhigansk\n",
      "Processing Record 1 of Set 1 | hervey bay\n",
      "Processing Record 1 of Set 1 | saint-joseph\n",
      "Processing Record 1 of Set 1 | mahanje\n",
      "Processing Record 1 of Set 1 | garmsar\n",
      "Processing Record 1 of Set 1 | riccione\n",
      "Processing Record 1 of Set 1 | lata\n",
      "Processing Record 1 of Set 1 | labuan\n",
      "Processing Record 1 of Set 1 | morant bay\n",
      "Processing Record 1 of Set 1 | coquimbo\n",
      "Processing Record 1 of Set 1 | martinsburg\n",
      "Processing Record 1 of Set 1 | sayyan\n",
      "Processing Record 1 of Set 1 | yumen\n",
      "Processing Record 1 of Set 1 | nigran\n",
      "Processing Record 1 of Set 1 | plouzane\n",
      "Processing Record 1 of Set 1 | ulladulla\n",
      "Processing Record 1 of Set 1 | nordhorn\n",
      "Processing Record 1 of Set 1 | beipiao\n",
      "Processing Record 1 of Set 1 | lazaro cardenas\n",
      "Processing Record 1 of Set 1 | ipubi\n",
      "Processing Record 1 of Set 1 | nishihara\n",
      "Processing Record 1 of Set 1 | college\n",
      "Processing Record 1 of Set 1 | barranca\n",
      "City not found. Skipping...\n",
      "Processing Record 1 of Set 1 | maarianhamina\n",
      "Processing Record 1 of Set 1 | vardo\n",
      "Processing Record 1 of Set 1 | innisfail\n",
      "Processing Record 1 of Set 1 | serenje\n",
      "-----------------------------\n",
      "Data Retrieval Complete\n",
      "-----------------------------\n"
     ]
    }
   ],
   "source": [
    "for city_name in citiesl:\n",
    "    weather_response=requests.get(query_url+city_name).json()\n",
    "    try:\n",
    "#         query_url = f\"{url}appid={weather_api_key}&units={units}\"\n",
    "#         weather_response=requests.get(query_url)\n",
    "#         weather_response=requests.get(query_url+city_name).json()\n",
    "        City.append(weather_response['name'])\n",
    "        Lat.append(weather_response['coord']['lat'])\n",
    "        Lng.append(weather_response['coord']['lon'])\n",
    "        Max_Temp.append(weather_response['main']['temp_max'])\n",
    "        Humidity.append(weather_response['main']['humidity'])\n",
    "        Cloudiness.append(weather_response['clouds']['all'])\n",
    "        Wind_Speed.append(weather_response['wind']['speed'])\n",
    "        Country.append(weather_response['sys']['country'])\n",
    "        Date.append(weather_response['dt'])\n",
    "        print(f\"Processing Record 1 of Set 1 | {city_name}\")    \n",
    "        \n",
    "    except:\n",
    "        print(\"City not found. Skipping...\")\n",
    "        pass\n",
    "print(\"-----------------------------\")\n",
    "print(\"Data Retrieval Complete\")     \n",
    "print(\"-----------------------------\")"
   ]
  },
  {
   "cell_type": "code",
   "execution_count": 42,
   "metadata": {},
   "outputs": [
    {
     "name": "stdout",
     "output_type": "stream",
     "text": [
      "The latitude information received is: [32.87, -43.3, 72.79, 71.29, -33.59, 66.83, -53.15, 3.07, 37.1, 62.46, -46.19, -33.65, 61.67, 57.05, -33.01, -22.97, 22.08, -41.07, 34.1, -12.79, -23.12, -21.21, 68.22, -34.42, 60.14, 77.48, 48.57, -0.13, 22.89, -34.2, -1.27, -54.8, 55.2, 22.29, -42.78, -34.53, -21.2, 33.82, 54.08, 38.52, 32.67, 44.49, 52.63, 25.7, -9.8, 42.6, 48.28, -37.62, 55.52, 70.66, 19.73, 37.72, 39.84, 40.29, 37.57, 20.7, -3.67, 54.02, 42.95, 11.7, -33.02, 64.57, -5.63, 47.7, -26.79, 5.41, 42.1, 21.82, -20.52, 26.59, 51.38, -29.68, -33.7, 62.6, 67.67, -2.27, 30.69, 40.6, -0.74, -24.87, 55.3, 64.84, -42.88, 51.8, 39.34, -3.8, 35.73, -0.6, -7.84, -37.83, -17.93, 71.97, 27.98, 65.28, 63.75, 47.67, -2.02, 50.86, 22.68, 71.92, 35.13, 37.67, 57.79, -16.48, 14.9, 55.28, 42.78, 53.93, 63.86, -13.2, 8, -6.41, 59.37, 19.22, 23.45, -20.74, 71.69, 53.57, -33.93, -7.08, 4.71, 54.72, -23.13, 38.89, 58.81, -38, -5.26, 42.04, 13.22, 64.9, 18.42, -38.27, 11.03, 70.03, 48.92, 40.86, 59.7, -19.8, -28.98, 61.99, -17.08, 41.99, 63.64, 1.44, -34.58, -20.23, 18.73, -46.6, -15.2, 18.39, 63.01, 11, -3.54, -20.41, 42.04, 46.49, 50.68, -23.7, -0.95, -21.34, 66.04, 53.57, 78.22, 59.7, 73.51, 30.48, 64.3, -20.21, 28.66, -22.12, 69.45, 30.57, 66.56, 35.6, 62.1, -35.17, -22.28, 39.18, 68.75, 41.37, 17.65, 4.75, -8.65, -17.34, 50.7, 14.35, 54.77, 4.17, -2.95, 31.76, -46.28, 36.54, 65.61, -45.42, 68.05, 63.44, 34.77, 48.75, 50.1, 39, 39.89, -34, 60.82, 53.17, -28.77, -30.74, 19.52, -1.83, 69.49, 14.69, 39.41, -19.55, 37.22, -14.27, 68.53, 31.26, 70.47, 15.4, 51.95, -5.56, -13.88, -20.44, 21.43, 49.6, -4.9, 69.22, 5.73, 34.73, -21.36, -29.11, 2.02, 39.05, -1.57, 37.46, -23.65, 49.75, -39.03, -31.63, -33.87, -24.79, 67.45, 70.86, 55.74, 56.02, 37.98, 4.25, -6.09, 47.61, 15.85, 13.22, 69.7, -41.87, -0.91, 1.59, 39.01, 34.64, 30.15, 26.33, 18.44, 21.46, 4.93, 60.4, 59.38, -31.43, -32.03, 12.58, -19.84, 31.45, -8.19, -6.22, 39.64, 54.82, 61.69, -33.92, 60.9, -35.34, -11.78, -14.25, 45.52, -0.61, -38.6, -8.84, 39.42, 7.77, 58.96, 34.67, 33.85, -9.62, 43.32, 4.42, 66.94, -8.9, 70.63, 18.08, 43.64, 48.8, 20.52, -2.57, -20.73, -36.65, -0.72, 63.84, -29.86, 71.04, 35.05, 42.33, 42.8, 53.52, 4.8, -40.81, 6.12, -30.18, -7.94, -45.87, 22.42, 60.75, 65.98, 63.9, 47.88, 55.34, -32.95, 53.05, 55.1, 5.4, -8.93, 49.63, 42.36, 9.49, 36.37, 55.36, 4.38, 65.7, -21.98, -13.7, 40.43, -1.2, -36.82, -45.58, 54.3, 13.6, 52.26, 39.4, -11.21, -20.01, 13.98, -46.13, -1.76, 25.38, 55.8, 7.85, -12.29, -25.24, 28.42, 54.72, -20.34, -10.62, 18.2, 25.99, 20, -12.26, -12.17, -18.06, 31.35, 49.98, -22.4, -4.97, 6.74, -6.88, 32.31, -8.74, 54.78, 64.25, 52.5, 37.59, 51.1, 5.35, 65.75, 27.18, -7.74, -22.96, 44.37, -27.33, 32.52, 25.38, 2.3, 53.6, 68.12, -18.32, 41.43, 34.38, -9.08, 31.27, 41.54, 51.18, 8.88, 38.42, 45.41, 55.93, -20.57, 69.3, -17.8, -17.73, 32.3, 10.15, 13.93, 17.33, -10.4, -19.06, -20.37, 44.65, 5.38, 22.92, 32.68, 29.57, 66.08, -9.88, 38.44, 51.03, -8.14, 44.53, -22.67, 63.45, 33.19, 37.77, 66.77, -25.3, -21.37, -9.93, 35.22, 44.01, 40.16, 5.28, 17.88, -29.95, 39.46, 15.17, 40.28, 42.14, 48.38, -35.35, 52.43, 41.79, 17.96, -7.65, 26.18, 64.86, -10.75, 60.1, 70.37, -17.53, -13.23]\n"
     ]
    }
   ],
   "source": [
    "print(f\"The latitude information received is: {Lat}\")"
   ]
  },
  {
   "cell_type": "code",
   "execution_count": 44,
   "metadata": {},
   "outputs": [
    {
     "name": "stdout",
     "output_type": "stream",
     "text": [
      "The longitude information received is: [59.22, -65.1, -56.15, -156.79, 26.89, 70.83, -70.92, 172.79, -113.58, -114.35, 168.86, 115.33, 96.37, -135.33, 17.94, -42.03, -159.32, 145.92, -117.85, 45.27, -134.97, -159.78, -135.01, 19.23, -45.24, -69.36, 83.65, -67.09, -109.91, 142.15, 116.83, -68.3, 56.67, 114.16, 147.06, 20.04, -175.2, -78.68, -0.19, -28.7, -17.1, -103.86, 70.42, -99.23, -139.03, -73.97, -116.55, -73.65, 24.3, 23.68, -155.09, -25.43, 69.53, 123.27, 126.98, -105.2, 152.43, -124.02, 72.76, -70.2, 27.91, 143.2, 32.77, 128.9, -60.44, 100.34, -79.24, 75.6, 57.52, 12.78, 1.39, -53.81, -53.46, 29.76, 12.69, 40.9, 78.49, -124.16, -90.35, 113.63, -123.17, -147.72, 147.33, 68.33, 29.26, 102.27, 140.83, 73.08, -79.15, 140.77, 19.77, 102.5, -114.06, -126.83, -68.51, -52.73, 147.27, 0.57, -3.98, 114.08, 140.3, 21.62, -152.41, -151.75, -24.5, -114.77, -9.06, 35.11, 57.31, 49.05, 124.29, -41.75, 16.51, -104.7, -110.22, 116.85, 128.87, 7.78, 18.42, -36.06, -74.23, -113.29, 150.73, -76.51, -122.7, -57.56, -44.65, 119.29, -59.52, 45.76, -64.62, 141.97, 20.28, 20.97, 2.33, -73.63, 30.79, -174.35, 153.42, -49.67, -70.84, 122.83, 54.86, 31.34, 150.86, 164.02, -103.68, 168.33, 12.15, 42.45, 112.47, 122.67, 118.97, 57.7, -87.69, 135.88, 156.12, 133.88, 100.35, 55.48, -17.34, 142.95, 15.64, 150.17, 80.55, -115.95, 41.92, 57.76, -17.92, 14.28, -133.04, 79.57, 67.8, 103.21, 126.7, 173.17, 166.46, -84.53, 161.3, -73.41, 83.27, -55.17, 115.22, -49.93, -127.42, 121.02, -101.86, 73.51, 25.95, 25.09, 169.85, 61.16, -37.64, 167.72, 166.44, -20.27, 32.42, -3.42, -91.92, 41.75, 4.27, 24.73, -115.8, 63.58, 114.6, 30.45, 100.3, -44.87, 88.4, -17.44, -74.36, 169.27, -93.3, 50.17, 146.42, 32.28, -68.59, 79.52, -7.85, -80.82, 167.55, -53.76, 39.83, 128.68, -80.69, -51.1, 10.9, 135.58, 55.77, -49.62, 112.93, -27.98, 9.26, -122.43, -70.4, -77.63, -67.58, -60.7, 121.9, -50.01, 153.68, 29.09, -97.86, 29.93, -0.68, 117.89, -35.21, 41.5, -97.07, 80.32, 170.31, -73.82, 122.88, 103.65, -77.43, -120.46, -85.57, 43.98, -73.09, -71.14, -52.33, -1.35, 143.3, 152.92, -52.1, -81.7, 34.84, 12.98, 15.38, 155.63, 141.95, 54, 27.27, 25.57, 131.96, 143.55, 19.92, 129.55, -123.11, -47.36, 145.59, 13.23, 29.98, -72.22, 126.29, 138.95, -118.05, -42.08]\n"
     ]
    }
   ],
   "source": [
    "print(f\"The longitude information received is: {Lng}\")"
   ]
  },
  {
   "cell_type": "code",
   "execution_count": 46,
   "metadata": {},
   "outputs": [
    {
     "name": "stdout",
     "output_type": "stream",
     "text": [
      "The maximum temperature is: [50.77, 58.68, 25, 30.2, 55.26, 36.64, 33.8, 82.53, 86, 55.4, 33.67, 61, 31.87, 55.4, 44.6, 75.2, 86, 54, 93.99, 73.4, 71.82, 78.8, 37.4, 48.99, 35.65, 13.32, 39.42, 78.13, 89.6, 69.01, 77, 32, 46.31, 82, 57.99, 51.8, 78.8, 77, 57.2, 67.8, 69.8, 53.6, 46.54, 71.82, 78.21, 73, 68, 47.68, 39.2, 48.2, 84.2, 68, 57.2, 58.57, 64.4, 89.6, 85.64, 52.11, 44.78, 84.09, 59.92, 46.58, 67.23, 50.76, 64.02, 78.8, 73, 72.81, 73.4, 79.74, 57, 57.2, 49.57, 41, 53.11, 77.54, 68, 86, 68, 66.2, 55.4, 53.6, 57.99, 45.81, 66.16, 79.03, 72, 83.53, 62.65, 57.2, 67.41, 29.44, 77.36, 44.6, 24.8, 64, 84.65, 60.01, 92.64, 29.07, 71.01, 64.4, 55.4, 78.28, 80.71, 60.8, 57.99, 49.6, 46.96, 65.57, 82, 86.72, 55, 86, 84, 84.33, 34.25, 53.6, 53.01, 71.6, 57.2, 56.44, 75.2, 73.4, 64.4, 51.01, 85.41, 52.07, 73.4, 45.19, 82.4, 60.46, 73.26, 52.72, 57.2, 70, 51.8, 82.4, 69.8, 35.55, 51.17, 55.4, 44.31, 63.73, 63, 71.31, 75.2, 37.29, 63.59, 64.4, 30.76, 85.08, 82.87, 73.4, 57.2, 48.99, 51.19, 80.6, 80.58, 69.8, 37.4, 51.35, 39.2, 46.2, 39.49, 74.44, 42.8, 73.4, 73.4, 51.01, 35.6, 55.92, 34.83, 56.66, 40.46, 58.64, 72, 57.2, 47.57, 68, 78.8, 80.1, 82.4, 81.64, 62.6, 87.01, 46, 82.4, 70.65, 76.69, 35.01, 53.37, 32, 35.08, 43.09, 46.02, 78.8, 59, 50, 55.42, 59, 52, 62.6, 37.4, 59, 59.76, 75.2, 75.74, 30.2, 82.4, 70, 78.8, 59, 68.74, 46.54, 80.6, 30.2, 78.49, 48.99, 63.01, 86, 80.71, 85.44, 50.79, 66.74, 28.4, 62.98, 77, 71.6, 60.06, 76.3, 67.05, 74.08, 96.8, 57.2, 53.6, 62.6, 58.82, 59, 62.87, 51.96, 48.67, 42.8, 51.24, 64.99, 78.8, 75.2, 52.99, 84.2, 77, 38.98, 50.04, 82.08, 78.8, 73.99, 68, 80.6, 73.4, 82.22, 84.58, 78.8, 51.8, 49.33, 70, 53.01, 80.6, 75.2, 68.76, 61.36, 78.48, 66.34, 46.76, 46, 55.4, 43.09, 64.08, 64.17, 88.39, 84.2, 79.52, 62.01, 71.6, 59, 66.76, 40.3, 69.8, 84.99, 79.56, 60.8, 76.64, 29.95, 75.16, 42.03, 73.35, 54.01, 61, 86.88, 83.26, 86, 59, 76.75, 39.2, 57.2, 47.23, 69.8, 63.61, 58.41, 48.2, 81.75, 50, 77, 59.63, 80.94, 39, 78.01, 42.55, 41.67, 43.2, 59, 53.6, 66, 51.8, 51.8, 84.47, 76.55, 60.8, 55.4, 76.78, 53.6, 40.46, 76.84, 29.79, 59, 63, 57.2, 79.12, 57.99, 42.8, 41.2, 86.14, 43.72, 55.4, 71.37, 73, 82.99, 39, 78.8, 86, 46, 73.2, 65.14, 73.4, 81.3, 42.57, 73.4, 78.93, 79.88, 84.2, 93.63, 73.8, 67.77, 55.38, 73.4, 40.95, 62.56, 76.78, 73.89, 83.23, 72, 69.73, 55.4, 44.55, 49.64, 93.2, 51.6, 76.64, 50.2, 86, 73.78, 51.01, 51.8, 68, 71.6, 78.13, 75.2, 33.8, 52.66, 57.2, 60.01, 62.01, 79.41, 61.63, 60.01, 52.48, 73.62, 100.4, 35.24, 41.95, 69.91, 39.9, 71.6, 82.4, 75.2, 71.6, 86.27, 87.8, 73.22, 82.4, 47.55, 68, 79, 67.96, 63, 75.2, 34.14, 78.06, 48.15, 57.99, 80.11, 62.6, 68.16, 45.36, 73.99, 82.4, 34.77, 77, 69.8, 61.54, 63.46, 55.99, 64, 80.6, 86, 55.4, 72, 57.18, 52.16, 64, 57.2, 62.01, 52, 56.95, 81.03, 78.48, 80.6, 51.8, 60.76, 55.4, 48.42, 77.4, 64.11]\n"
     ]
    }
   ],
   "source": [
    "print(f\"The maximum temperature is: {Max_Temp}\")"
   ]
  },
  {
   "cell_type": "code",
   "execution_count": 48,
   "metadata": {},
   "outputs": [
    {
     "name": "stdout",
     "output_type": "stream",
     "text": [
      "The humidty is: [43, 37, 89, 80, 69, 89, 55, 72, 10, 54, 91, 90, 91, 71, 81, 94, 62, 74, 34, 88, 89, 74, 100, 94, 78, 78, 83, 77, 43, 32, 100, 92, 90, 83, 46, 76, 78, 88, 93, 85, 83, 30, 86, 42, 72, 84, 32, 81, 93, 81, 66, 88, 47, 73, 100, 70, 66, 92, 55, 74, 59, 67, 82, 64, 46, 94, 64, 83, 83, 17, 90, 87, 83, 93, 85, 82, 88, 36, 85, 72, 54, 57, 66, 84, 57, 82, 60, 69, 78, 58, 22, 96, 53, 81, 79, 93, 71, 100, 11, 96, 64, 82, 50, 79, 81, 41, 76, 93, 93, 86, 77, 31, 93, 79, 68, 19, 83, 93, 87, 88, 76, 58, 41, 88, 25, 93, 44, 49, 94, 94, 74, 68, 90, 72, 87, 100, 81, 74, 49, 75, 51, 87, 98, 97, 61, 83, 83, 77, 87, 27, 91, 72, 70, 83, 67, 80, 85, 10, 72, 73, 69, 89, 86, 70, 93, 64, 93, 83, 60, 88, 93, 35, 87, 61, 77, 59, 82, 87, 53, 88, 94, 76, 94, 29, 72, 79, 90, 83, 98, 68, 85, 53, 95, 84, 60, 74, 65, 93, 93, 52, 87, 67, 36, 93, 77, 74, 100, 87, 100, 83, 83, 88, 58, 87, 63, 83, 86, 81, 87, 79, 70, 61, 33, 65, 68, 63, 100, 69, 73, 84, 83, 86, 80, 100, 82, 100, 36, 50, 100, 90, 53, 83, 93, 95, 73, 88, 88, 59, 66, 94, 73, 94, 66, 88, 83, 82, 83, 40, 70, 74, 88, 93, 65, 41, 82, 83, 88, 81, 94, 80, 62, 81, 93, 66, 73, 44, 83, 51, 30, 77, 77, 94, 76, 90, 84, 73, 51, 42, 82, 91, 94, 83, 72, 84, 73, 84, 27, 68, 12, 71, 74, 93, 93, 84, 94, 65, 32, 93, 77, 74, 100, 78, 71, 73, 87, 70, 86, 88, 100, 93, 44, 62, 71, 69, 38, 93, 76, 80, 71, 81, 90, 97, 14, 88, 71, 77, 57, 87, 68, 47, 77, 58, 86, 77, 56, 69, 83, 35, 93, 94, 65, 64, 34, 82, 83, 83, 77, 74, 13, 80, 61, 37, 88, 67, 86, 80, 95, 65, 21, 85, 71, 77, 90, 16, 45, 89, 60, 30, 91, 87, 93, 52, 46, 84, 94, 100, 82, 87, 93, 82, 85, 43, 93, 70, 89, 8, 79, 66, 81, 77, 60, 69, 94, 100, 72, 74, 85, 69, 51, 100, 83, 100, 37, 25, 91, 58, 47, 94, 83, 20, 78, 65, 85, 47, 95, 46, 73, 94, 49, 81, 83, 83, 66, 82, 78, 36, 69, 76, 100, 48, 79, 41, 77, 39, 74, 57, 86, 87, 89, 63, 41]\n"
     ]
    }
   ],
   "source": [
    "print(f\"The humidty is: {Humidity}\")"
   ]
  },
  {
   "cell_type": "code",
   "execution_count": null,
   "metadata": {},
   "outputs": [],
   "source": [
    "print(f\"The cloudiness is: {Cloudiness}\")"
   ]
  },
  {
   "cell_type": "code",
   "execution_count": null,
   "metadata": {},
   "outputs": [],
   "source": [
    "print(f\"The wind speed is: {Wind_Speed}\")"
   ]
  },
  {
   "cell_type": "code",
   "execution_count": null,
   "metadata": {},
   "outputs": [],
   "source": [
    "print(f\"The c is: {Cloudiness}\")"
   ]
  },
  {
   "cell_type": "code",
   "execution_count": null,
   "metadata": {},
   "outputs": [],
   "source": []
  },
  {
   "cell_type": "code",
   "execution_count": null,
   "metadata": {},
   "outputs": [],
   "source": [
    "\n",
    "        Cloudiness.append(weather_response['clouds']['all'])\n",
    "        Wind_Speed.append(weather_response['wind']['speed'])\n",
    "        Country.append(weather_response['sys']['country'])"
   ]
  },
  {
   "cell_type": "code",
   "execution_count": null,
   "metadata": {},
   "outputs": [],
   "source": [
    "# print(json.dumps(weather_response, indent=4, sort_keys=True))"
   ]
  },
  {
   "cell_type": "code",
   "execution_count": null,
   "metadata": {},
   "outputs": [],
   "source": [
    "# print(f\"Processing Record {record} of Set 1 | {city}\")"
   ]
  },
  {
   "cell_type": "code",
   "execution_count": null,
   "metadata": {},
   "outputs": [],
   "source": [
    "# print(\"City not found. Skipping...\")"
   ]
  },
  {
   "cell_type": "code",
   "execution_count": null,
   "metadata": {},
   "outputs": [],
   "source": [
    "# print(\"-----------------------------\")\n",
    "# print(\"Data Retrieval Complete\")     \n",
    "# print(\"-----------------------------\")"
   ]
  },
  {
   "cell_type": "code",
   "execution_count": null,
   "metadata": {},
   "outputs": [],
   "source": [
    "url = \"http://api.openweathermap.org/data/2.5/weather?\"\n",
    "# \"api.openweathermap.org/data/2.5/weather?q={city name}&appid={API key}\"\n",
    "# api.openweathermap.org/data/2.5/find?q=London&units=imperial\n"
   ]
  },
  {
   "cell_type": "code",
   "execution_count": null,
   "metadata": {},
   "outputs": [],
   "source": [
    "query_url = f\"{url}appid={weather_api_key}&q={city}&units={units}\""
   ]
  },
  {
   "cell_type": "code",
   "execution_count": null,
   "metadata": {},
   "outputs": [],
   "source": [
    "city=citiesl\n",
    "units=\"imperial\""
   ]
  },
  {
   "cell_type": "code",
   "execution_count": null,
   "metadata": {},
   "outputs": [],
   "source": [
    "# query_url = f\"{url}appid={weather_api_key}&q={city}&units={units}\""
   ]
  },
  {
   "cell_type": "code",
   "execution_count": null,
   "metadata": {},
   "outputs": [],
   "source": [
    "# print(query_url)"
   ]
  },
  {
   "cell_type": "code",
   "execution_count": null,
   "metadata": {},
   "outputs": [],
   "source": [
    "weather_response=requests.get(query_url)"
   ]
  },
  {
   "cell_type": "code",
   "execution_count": null,
   "metadata": {},
   "outputs": [],
   "source": [
    "city=[]\n",
    "units=\"metric\""
   ]
  },
  {
   "cell_type": "code",
   "execution_count": null,
   "metadata": {},
   "outputs": [],
   "source": [
    "query_url = f\"{url}appid={weather_api_key}&q={city}&units={units}\""
   ]
  },
  {
   "cell_type": "code",
   "execution_count": null,
   "metadata": {},
   "outputs": [],
   "source": [
    "weather_json=weather_response.json()"
   ]
  },
  {
   "cell_type": "code",
   "execution_count": null,
   "metadata": {
    "scrolled": true
   },
   "outputs": [],
   "source": [
    "# weather_json"
   ]
  },
  {
   "cell_type": "code",
   "execution_count": null,
   "metadata": {},
   "outputs": [],
   "source": [
    "url = target_url + city_name + ',' + country_code + '&units=' + units + '&APPID=' + api_key\n",
    "    weather_response = requests.get(url)\n",
    "#     weather_json = weather_response.json()"
   ]
  },
  {
   "cell_type": "code",
   "execution_count": null,
   "metadata": {},
   "outputs": [],
   "source": []
  },
  {
   "cell_type": "code",
   "execution_count": null,
   "metadata": {},
   "outputs": [],
   "source": []
  },
  {
   "cell_type": "markdown",
   "metadata": {},
   "source": [
    "### Convert Raw Data to DataFrame\n",
    "* Export the city data into a .csv.\n",
    "* Display the DataFrame"
   ]
  },
  {
   "cell_type": "code",
   "execution_count": null,
   "metadata": {},
   "outputs": [],
   "source": []
  },
  {
   "cell_type": "code",
   "execution_count": null,
   "metadata": {},
   "outputs": [],
   "source": []
  },
  {
   "cell_type": "markdown",
   "metadata": {},
   "source": [
    "## Inspect the data and remove the cities where the humidity > 100%.\n",
    "----\n",
    "Skip this step if there are no cities that have humidity > 100%. "
   ]
  },
  {
   "cell_type": "code",
   "execution_count": null,
   "metadata": {},
   "outputs": [],
   "source": []
  },
  {
   "cell_type": "code",
   "execution_count": null,
   "metadata": {},
   "outputs": [],
   "source": [
    "#  Get the indices of cities that have humidity over 100%.\n"
   ]
  },
  {
   "cell_type": "code",
   "execution_count": null,
   "metadata": {},
   "outputs": [],
   "source": [
    "# Make a new DataFrame equal to the city data to drop all humidity outliers by index.\n",
    "# Passing \"inplace=False\" will make a copy of the city_data DataFrame, which we call \"clean_city_data\".\n"
   ]
  },
  {
   "cell_type": "code",
   "execution_count": null,
   "metadata": {},
   "outputs": [],
   "source": [
    "\n"
   ]
  },
  {
   "cell_type": "markdown",
   "metadata": {},
   "source": [
    "## Plotting the Data\n",
    "* Use proper labeling of the plots using plot titles (including date of analysis) and axes labels.\n",
    "* Save the plotted figures as .pngs."
   ]
  },
  {
   "cell_type": "markdown",
   "metadata": {},
   "source": [
    "## Latitude vs. Temperature Plot"
   ]
  },
  {
   "cell_type": "code",
   "execution_count": null,
   "metadata": {
    "scrolled": true
   },
   "outputs": [],
   "source": []
  },
  {
   "cell_type": "markdown",
   "metadata": {},
   "source": [
    "## Latitude vs. Humidity Plot"
   ]
  },
  {
   "cell_type": "code",
   "execution_count": null,
   "metadata": {},
   "outputs": [],
   "source": []
  },
  {
   "cell_type": "markdown",
   "metadata": {},
   "source": [
    "## Latitude vs. Cloudiness Plot"
   ]
  },
  {
   "cell_type": "code",
   "execution_count": null,
   "metadata": {},
   "outputs": [],
   "source": []
  },
  {
   "cell_type": "markdown",
   "metadata": {},
   "source": [
    "## Latitude vs. Wind Speed Plot"
   ]
  },
  {
   "cell_type": "code",
   "execution_count": null,
   "metadata": {},
   "outputs": [],
   "source": []
  },
  {
   "cell_type": "markdown",
   "metadata": {},
   "source": [
    "## Linear Regression"
   ]
  },
  {
   "cell_type": "code",
   "execution_count": null,
   "metadata": {},
   "outputs": [],
   "source": []
  },
  {
   "cell_type": "markdown",
   "metadata": {},
   "source": [
    "####  Northern Hemisphere - Max Temp vs. Latitude Linear Regression"
   ]
  },
  {
   "cell_type": "code",
   "execution_count": null,
   "metadata": {},
   "outputs": [],
   "source": []
  },
  {
   "cell_type": "markdown",
   "metadata": {},
   "source": [
    "####  Southern Hemisphere - Max Temp vs. Latitude Linear Regression"
   ]
  },
  {
   "cell_type": "code",
   "execution_count": null,
   "metadata": {},
   "outputs": [],
   "source": []
  },
  {
   "cell_type": "markdown",
   "metadata": {},
   "source": [
    "####  Northern Hemisphere - Humidity (%) vs. Latitude Linear Regression"
   ]
  },
  {
   "cell_type": "code",
   "execution_count": null,
   "metadata": {},
   "outputs": [],
   "source": []
  },
  {
   "cell_type": "markdown",
   "metadata": {},
   "source": [
    "####  Southern Hemisphere - Humidity (%) vs. Latitude Linear Regression"
   ]
  },
  {
   "cell_type": "code",
   "execution_count": null,
   "metadata": {},
   "outputs": [],
   "source": []
  },
  {
   "cell_type": "markdown",
   "metadata": {},
   "source": [
    "####  Northern Hemisphere - Cloudiness (%) vs. Latitude Linear Regression"
   ]
  },
  {
   "cell_type": "code",
   "execution_count": null,
   "metadata": {},
   "outputs": [],
   "source": []
  },
  {
   "cell_type": "markdown",
   "metadata": {},
   "source": [
    "####  Southern Hemisphere - Cloudiness (%) vs. Latitude Linear Regression"
   ]
  },
  {
   "cell_type": "code",
   "execution_count": null,
   "metadata": {},
   "outputs": [],
   "source": []
  },
  {
   "cell_type": "markdown",
   "metadata": {},
   "source": [
    "####  Northern Hemisphere - Wind Speed (mph) vs. Latitude Linear Regression"
   ]
  },
  {
   "cell_type": "code",
   "execution_count": null,
   "metadata": {},
   "outputs": [],
   "source": []
  },
  {
   "cell_type": "markdown",
   "metadata": {},
   "source": [
    "####  Southern Hemisphere - Wind Speed (mph) vs. Latitude Linear Regression"
   ]
  },
  {
   "cell_type": "code",
   "execution_count": null,
   "metadata": {},
   "outputs": [],
   "source": []
  },
  {
   "cell_type": "code",
   "execution_count": null,
   "metadata": {},
   "outputs": [],
   "source": []
  }
 ],
 "metadata": {
  "anaconda-cloud": {},
  "kernel_info": {
   "name": "python3"
  },
  "kernelspec": {
   "display_name": "Python 3",
   "language": "python",
   "name": "python3"
  },
  "language_info": {
   "codemirror_mode": {
    "name": "ipython",
    "version": 3
   },
   "file_extension": ".py",
   "mimetype": "text/x-python",
   "name": "python",
   "nbconvert_exporter": "python",
   "pygments_lexer": "ipython3",
   "version": "3.6.10"
  },
  "latex_envs": {
   "LaTeX_envs_menu_present": true,
   "autoclose": false,
   "autocomplete": true,
   "bibliofile": "biblio.bib",
   "cite_by": "apalike",
   "current_citInitial": 1,
   "eqLabelWithNumbers": true,
   "eqNumInitial": 1,
   "hotkeys": {
    "equation": "Ctrl-E",
    "itemize": "Ctrl-I"
   },
   "labels_anchors": false,
   "latex_user_defs": false,
   "report_style_numbering": false,
   "user_envs_cfg": false
  },
  "nteract": {
   "version": "0.12.3"
  }
 },
 "nbformat": 4,
 "nbformat_minor": 2
}
