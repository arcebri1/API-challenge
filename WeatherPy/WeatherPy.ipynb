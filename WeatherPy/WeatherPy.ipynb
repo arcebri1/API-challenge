{
 "cells": [
  {
   "cell_type": "markdown",
   "metadata": {},
   "source": [
    "# WeatherPy\n",
    "----\n",
    "\n",
    "#### Analysis\n",
    "* Instructions have been included for each segment. You do not have to follow them exactly, but they are included to help you think through the steps."
   ]
  },
  {
   "cell_type": "code",
   "execution_count": 1,
   "metadata": {
    "scrolled": true
   },
   "outputs": [],
   "source": [
    "import matplotlib.pyplot as plt\n",
    "import requests\n",
    "from scipy import stats\n",
    "import pandas as pd\n",
    "import json\n",
    "import random\n",
    "import numpy as np\n",
    "from scipy.stats import linregress\n",
    "from api_keys import weather_api_key\n",
    "from citipy import citipy\n"
   ]
  },
  {
   "cell_type": "markdown",
   "metadata": {},
   "source": [
    "## Generate Cities List"
   ]
  },
  {
   "cell_type": "code",
   "execution_count": 2,
   "metadata": {},
   "outputs": [],
   "source": [
    "lat_lngl=[]\n",
    "citiesl=[]"
   ]
  },
  {
   "cell_type": "code",
   "execution_count": 3,
   "metadata": {},
   "outputs": [],
   "source": [
    "latr=np.random.uniform(-90.00, 90.00, size =1500)\n",
    "# latr"
   ]
  },
  {
   "cell_type": "code",
   "execution_count": 4,
   "metadata": {},
   "outputs": [],
   "source": [
    "lngr=np.random.uniform(-180.00, 180.00, size =1500)\n",
    "# lngr"
   ]
  },
  {
   "cell_type": "code",
   "execution_count": 5,
   "metadata": {},
   "outputs": [],
   "source": [
    "# lat_lngl=(latr,lngr)\n",
    "# list_latlng=next(zip(latr,lngr))\n",
    "# list_latlng=zip(latr,lngr)\n",
    "list_latlng=list(zip(latr,lngr))\n",
    "# print(list_latlng)\n",
    "# list_latlng[0]"
   ]
  },
  {
   "cell_type": "code",
   "execution_count": 6,
   "metadata": {},
   "outputs": [],
   "source": [
    "for lat_and_lng in list_latlng:\n",
    "    city = citipy.nearest_city(lat_and_lng[0],lat_and_lng[1])\n",
    "    city_name=city.city_name\n",
    "    if city_name not in citiesl:\n",
    "        citiesl.append(city_name)\n",
    "# print(citiesl)\n",
    "# len(citiesl)"
   ]
  },
  {
   "cell_type": "markdown",
   "metadata": {},
   "source": [
    "### Perform API Calls\n",
    "* Perform a weather check on each city using a series of successive API calls.\n",
    "* Include a print log of each city as it'sbeing processed (with the city number and city name).\n"
   ]
  },
  {
   "cell_type": "code",
   "execution_count": 7,
   "metadata": {},
   "outputs": [],
   "source": [
    "url = \"http://api.openweathermap.org/data/2.5/weather?\"\n",
    "# \"api.openweathermap.org/data/2.5/weather?q={city name}&appid={API key}\"\n",
    "# api.openweathermap.org/data/2.5/find?q=London&units=imperial"
   ]
  },
  {
   "cell_type": "code",
   "execution_count": null,
   "metadata": {},
   "outputs": [],
   "source": [
    "# query_url = f\"{url}appid={weather_api_key}&units={units}\""
   ]
  },
  {
   "cell_type": "code",
   "execution_count": null,
   "metadata": {},
   "outputs": [],
   "source": [
    "# weather_response=requests.get(query_url)"
   ]
  },
  {
   "cell_type": "code",
   "execution_count": null,
   "metadata": {},
   "outputs": [],
   "source": [
    "# weather_json=weather_response.json()"
   ]
  },
  {
   "cell_type": "code",
   "execution_count": null,
   "metadata": {},
   "outputs": [],
   "source": [
    "# url = \"http://api.openweathermap.org/data/2.5/weather?\"\n",
    "# query_url = f\"{url}appid={weather_api_key}&units={units}&q=\"\n",
    "# # weather_response=requests.get(query_url+citiesl).json()\n",
    "# weather_response=requests.get(query_url+city_name).json()\n",
    "# print(json.dumps(weather_response, indent=4,sort_keys=True))\n"
   ]
  },
  {
   "cell_type": "code",
   "execution_count": 8,
   "metadata": {},
   "outputs": [],
   "source": [
    "City=[]\n",
    "Lat=[]\n",
    "Lng=[]\n",
    "Max_Temp=[] \n",
    "Humidity=[]\n",
    "Cloudiness=[]\n",
    "Wind_Speed=[]\n",
    "Country=[]\n",
    "Date=[]"
   ]
  },
  {
   "cell_type": "code",
   "execution_count": 9,
   "metadata": {},
   "outputs": [],
   "source": [
    "units=\"imperial\""
   ]
  },
  {
   "cell_type": "code",
   "execution_count": null,
   "metadata": {},
   "outputs": [],
   "source": [
    "# print(\"Beginning Data Retrieval\")     \n",
    "# print(\"-----------------------------\")"
   ]
  },
  {
   "cell_type": "code",
   "execution_count": 10,
   "metadata": {},
   "outputs": [],
   "source": [
    "query_url = f\"{url}appid={weather_api_key}&units={units}&q=\"\n",
    "# weather_response=requests.get(query_url)"
   ]
  },
  {
   "cell_type": "code",
   "execution_count": 11,
   "metadata": {},
   "outputs": [
    {
     "name": "stdout",
     "output_type": "stream",
     "text": [
      "Processing Record 1 of Set 1 | freeport\n",
      "Processing Record 1 of Set 1 | faanui\n",
      "Processing Record 1 of Set 1 | tasiilaq\n",
      "Processing Record 1 of Set 1 | hermanus\n",
      "Processing Record 1 of Set 1 | punta arenas\n",
      "Processing Record 1 of Set 1 | albany\n",
      "Processing Record 1 of Set 1 | hobart\n",
      "Processing Record 1 of Set 1 | castro\n",
      "Processing Record 1 of Set 1 | san cristobal\n",
      "Processing Record 1 of Set 1 | sibi\n",
      "Processing Record 1 of Set 1 | ruteng\n",
      "Processing Record 1 of Set 1 | mataura\n",
      "Processing Record 1 of Set 1 | arraial do cabo\n",
      "Processing Record 1 of Set 1 | jamestown\n",
      "City not found. Skipping...\n",
      "Processing Record 1 of Set 1 | carnarvon\n",
      "Processing Record 1 of Set 1 | ocosingo\n",
      "Processing Record 1 of Set 1 | torbay\n",
      "City not found. Skipping...\n",
      "Processing Record 1 of Set 1 | rikitea\n",
      "Processing Record 1 of Set 1 | maldonado\n",
      "Processing Record 1 of Set 1 | ust-tsilma\n",
      "City not found. Skipping...\n",
      "Processing Record 1 of Set 1 | port alfred\n",
      "Processing Record 1 of Set 1 | chokurdakh\n",
      "Processing Record 1 of Set 1 | bluff\n",
      "Processing Record 1 of Set 1 | ushuaia\n",
      "Processing Record 1 of Set 1 | kimbe\n",
      "Processing Record 1 of Set 1 | port lincoln\n",
      "Processing Record 1 of Set 1 | san patricio\n",
      "Processing Record 1 of Set 1 | beringovskiy\n",
      "Processing Record 1 of Set 1 | puerto ayora\n",
      "City not found. Skipping...\n",
      "Processing Record 1 of Set 1 | geraldton\n",
      "Processing Record 1 of Set 1 | pisco\n",
      "Processing Record 1 of Set 1 | kattivakkam\n",
      "Processing Record 1 of Set 1 | isangel\n",
      "Processing Record 1 of Set 1 | natal\n",
      "Processing Record 1 of Set 1 | barrow\n",
      "Processing Record 1 of Set 1 | rocha\n",
      "Processing Record 1 of Set 1 | hilo\n",
      "Processing Record 1 of Set 1 | codrington\n",
      "Processing Record 1 of Set 1 | olafsvik\n",
      "City not found. Skipping...\n",
      "Processing Record 1 of Set 1 | hami\n",
      "Processing Record 1 of Set 1 | bilma\n",
      "Processing Record 1 of Set 1 | mahebourg\n",
      "Processing Record 1 of Set 1 | hofn\n",
      "Processing Record 1 of Set 1 | lorengau\n",
      "Processing Record 1 of Set 1 | airai\n",
      "Processing Record 1 of Set 1 | souillac\n",
      "Processing Record 1 of Set 1 | tsabong\n",
      "Processing Record 1 of Set 1 | flinders\n",
      "City not found. Skipping...\n",
      "Processing Record 1 of Set 1 | tuktoyaktuk\n",
      "Processing Record 1 of Set 1 | vaini\n",
      "City not found. Skipping...\n",
      "Processing Record 1 of Set 1 | songjianghe\n",
      "Processing Record 1 of Set 1 | lasa\n",
      "Processing Record 1 of Set 1 | portage\n",
      "Processing Record 1 of Set 1 | busselton\n",
      "Processing Record 1 of Set 1 | kauswagan\n",
      "Processing Record 1 of Set 1 | yangjiang\n",
      "Processing Record 1 of Set 1 | ribeira grande\n",
      "Processing Record 1 of Set 1 | sabha\n",
      "Processing Record 1 of Set 1 | pevek\n",
      "Processing Record 1 of Set 1 | dandong\n",
      "Processing Record 1 of Set 1 | buckeye\n",
      "Processing Record 1 of Set 1 | bonga\n",
      "Processing Record 1 of Set 1 | georgetown\n",
      "Processing Record 1 of Set 1 | butaritari\n",
      "Processing Record 1 of Set 1 | dagda\n",
      "Processing Record 1 of Set 1 | waddan\n",
      "City not found. Skipping...\n",
      "Processing Record 1 of Set 1 | port elizabeth\n",
      "Processing Record 1 of Set 1 | ponta do sol\n",
      "Processing Record 1 of Set 1 | sao joao da barra\n",
      "Processing Record 1 of Set 1 | hambantota\n",
      "City not found. Skipping...\n",
      "Processing Record 1 of Set 1 | mount gambier\n",
      "Processing Record 1 of Set 1 | platon sanchez\n",
      "Processing Record 1 of Set 1 | rawson\n",
      "Processing Record 1 of Set 1 | yerbogachen\n",
      "Processing Record 1 of Set 1 | east london\n",
      "Processing Record 1 of Set 1 | ladario\n",
      "Processing Record 1 of Set 1 | new norfolk\n",
      "Processing Record 1 of Set 1 | kutum\n",
      "Processing Record 1 of Set 1 | inhapim\n",
      "Processing Record 1 of Set 1 | pangnirtung\n",
      "Processing Record 1 of Set 1 | klaksvik\n",
      "Processing Record 1 of Set 1 | la ronge\n",
      "Processing Record 1 of Set 1 | staryy nadym\n",
      "Processing Record 1 of Set 1 | nelson bay\n",
      "Processing Record 1 of Set 1 | naze\n",
      "Processing Record 1 of Set 1 | qaanaaq\n",
      "Processing Record 1 of Set 1 | mount isa\n",
      "Processing Record 1 of Set 1 | banyo\n",
      "Processing Record 1 of Set 1 | talara\n",
      "Processing Record 1 of Set 1 | labuhan\n",
      "Processing Record 1 of Set 1 | ancud\n",
      "Processing Record 1 of Set 1 | quelimane\n",
      "Processing Record 1 of Set 1 | yellowknife\n",
      "Processing Record 1 of Set 1 | avarua\n",
      "Processing Record 1 of Set 1 | narasannapeta\n",
      "Processing Record 1 of Set 1 | aksha\n",
      "Processing Record 1 of Set 1 | clyde river\n",
      "City not found. Skipping...\n",
      "Processing Record 1 of Set 1 | kapaa\n",
      "Processing Record 1 of Set 1 | saint anthony\n",
      "Processing Record 1 of Set 1 | esperance\n",
      "Processing Record 1 of Set 1 | alice springs\n",
      "Processing Record 1 of Set 1 | yancheng\n",
      "Processing Record 1 of Set 1 | mitsamiouli\n",
      "Processing Record 1 of Set 1 | victoria\n",
      "Processing Record 1 of Set 1 | sangar\n",
      "Processing Record 1 of Set 1 | hualmay\n",
      "Processing Record 1 of Set 1 | port hedland\n",
      "Processing Record 1 of Set 1 | maniitsoq\n",
      "City not found. Skipping...\n",
      "Processing Record 1 of Set 1 | harlingen\n",
      "Processing Record 1 of Set 1 | mar del plata\n",
      "Processing Record 1 of Set 1 | olinda\n",
      "Processing Record 1 of Set 1 | luanda\n",
      "Processing Record 1 of Set 1 | bredasdorp\n",
      "Processing Record 1 of Set 1 | narsaq\n",
      "Processing Record 1 of Set 1 | san quintin\n",
      "City not found. Skipping...\n",
      "Processing Record 1 of Set 1 | petropavlovsk-kamchatskiy\n",
      "Processing Record 1 of Set 1 | doha\n",
      "Processing Record 1 of Set 1 | comodoro rivadavia\n",
      "Processing Record 1 of Set 1 | edgewater\n",
      "City not found. Skipping...\n",
      "Processing Record 1 of Set 1 | luganville\n",
      "City not found. Skipping...\n",
      "Processing Record 1 of Set 1 | nanortalik\n",
      "Processing Record 1 of Set 1 | kaeo\n",
      "Processing Record 1 of Set 1 | batemans bay\n",
      "Processing Record 1 of Set 1 | san rafael\n",
      "Processing Record 1 of Set 1 | namibe\n",
      "Processing Record 1 of Set 1 | portland\n",
      "Processing Record 1 of Set 1 | shulan\n",
      "Processing Record 1 of Set 1 | vostok\n",
      "Processing Record 1 of Set 1 | bambous virieux\n",
      "Processing Record 1 of Set 1 | ocos\n",
      "Processing Record 1 of Set 1 | dingle\n",
      "Processing Record 1 of Set 1 | horuphav\n",
      "Processing Record 1 of Set 1 | lahij\n",
      "Processing Record 1 of Set 1 | atuona\n",
      "City not found. Skipping...\n",
      "Processing Record 1 of Set 1 | baoqing\n",
      "Processing Record 1 of Set 1 | port hardy\n",
      "Processing Record 1 of Set 1 | norman wells\n",
      "Processing Record 1 of Set 1 | dikson\n",
      "Processing Record 1 of Set 1 | sao gabriel da cachoeira\n",
      "Processing Record 1 of Set 1 | khatanga\n",
      "Processing Record 1 of Set 1 | makakilo city\n",
      "Processing Record 1 of Set 1 | lagoa\n",
      "Processing Record 1 of Set 1 | cape town\n",
      "Processing Record 1 of Set 1 | kodiak\n",
      "Processing Record 1 of Set 1 | nikolskoye\n",
      "Processing Record 1 of Set 1 | kaitangata\n",
      "City not found. Skipping...\n",
      "Processing Record 1 of Set 1 | trincomalee\n",
      "City not found. Skipping...\n",
      "Processing Record 1 of Set 1 | aquiraz\n",
      "City not found. Skipping...\n",
      "Processing Record 1 of Set 1 | fougamou\n",
      "Processing Record 1 of Set 1 | nabire\n",
      "Processing Record 1 of Set 1 | litovko\n",
      "Processing Record 1 of Set 1 | nuuk\n",
      "Processing Record 1 of Set 1 | primorskiy\n",
      "Processing Record 1 of Set 1 | mayumba\n",
      "Processing Record 1 of Set 1 | grand gaube\n",
      "Processing Record 1 of Set 1 | vredendal\n",
      "Processing Record 1 of Set 1 | andijon\n",
      "City not found. Skipping...\n",
      "Processing Record 1 of Set 1 | mushie\n",
      "Processing Record 1 of Set 1 | charlestown\n",
      "City not found. Skipping...\n",
      "Processing Record 1 of Set 1 | chongwe\n",
      "Processing Record 1 of Set 1 | biak\n",
      "Processing Record 1 of Set 1 | damghan\n",
      "Processing Record 1 of Set 1 | cafarnaum\n",
      "Processing Record 1 of Set 1 | marsh harbour\n",
      "Processing Record 1 of Set 1 | chumikan\n",
      "Processing Record 1 of Set 1 | bethel\n",
      "Processing Record 1 of Set 1 | san carlos de bariloche\n",
      "Processing Record 1 of Set 1 | tabon\n",
      "Processing Record 1 of Set 1 | pingliang\n",
      "Processing Record 1 of Set 1 | morristown\n",
      "Processing Record 1 of Set 1 | kahului\n",
      "Processing Record 1 of Set 1 | sisimiut\n",
      "Processing Record 1 of Set 1 | hernani\n",
      "City not found. Skipping...\n",
      "Processing Record 1 of Set 1 | pitimbu\n",
      "Processing Record 1 of Set 1 | bandarbeyla\n",
      "City not found. Skipping...\n",
      "Processing Record 1 of Set 1 | upernavik\n",
      "Processing Record 1 of Set 1 | medea\n",
      "Processing Record 1 of Set 1 | kampong thum\n",
      "Processing Record 1 of Set 1 | dakar\n",
      "Processing Record 1 of Set 1 | aldan\n",
      "Processing Record 1 of Set 1 | sovetskiy\n",
      "Processing Record 1 of Set 1 | yarada\n",
      "Processing Record 1 of Set 1 | dehloran\n",
      "Processing Record 1 of Set 1 | okha\n",
      "Processing Record 1 of Set 1 | svetlaya\n",
      "Processing Record 1 of Set 1 | porto belo\n",
      "Processing Record 1 of Set 1 | kuusamo\n",
      "Processing Record 1 of Set 1 | tigil\n"
     ]
    },
    {
     "name": "stdout",
     "output_type": "stream",
     "text": [
      "Processing Record 1 of Set 1 | general roca\n",
      "Processing Record 1 of Set 1 | bahia blanca\n",
      "Processing Record 1 of Set 1 | norsup\n",
      "Processing Record 1 of Set 1 | antofagasta\n",
      "Processing Record 1 of Set 1 | fortuna\n",
      "Processing Record 1 of Set 1 | monsenhor gil\n",
      "Processing Record 1 of Set 1 | vila franca do campo\n",
      "Processing Record 1 of Set 1 | saryg-sep\n",
      "Processing Record 1 of Set 1 | ruyigi\n",
      "Processing Record 1 of Set 1 | yenagoa\n",
      "Processing Record 1 of Set 1 | brigantine\n",
      "Processing Record 1 of Set 1 | firovo\n",
      "Processing Record 1 of Set 1 | tahoua\n",
      "Processing Record 1 of Set 1 | samarai\n",
      "Processing Record 1 of Set 1 | staraya mayna\n",
      "Processing Record 1 of Set 1 | luderitz\n",
      "Processing Record 1 of Set 1 | cherskiy\n",
      "Processing Record 1 of Set 1 | bengkulu\n",
      "Processing Record 1 of Set 1 | grindavik\n",
      "Processing Record 1 of Set 1 | alofi\n",
      "Processing Record 1 of Set 1 | ginda\n",
      "Processing Record 1 of Set 1 | severo-kurilsk\n",
      "Processing Record 1 of Set 1 | lompoc\n",
      "Processing Record 1 of Set 1 | coihaique\n",
      "Processing Record 1 of Set 1 | eureka\n",
      "Processing Record 1 of Set 1 | saint-philippe\n",
      "Processing Record 1 of Set 1 | fort nelson\n",
      "Processing Record 1 of Set 1 | kunashak\n",
      "Processing Record 1 of Set 1 | tiznit\n",
      "Processing Record 1 of Set 1 | havre-saint-pierre\n",
      "Processing Record 1 of Set 1 | salalah\n",
      "Processing Record 1 of Set 1 | hithadhoo\n",
      "Processing Record 1 of Set 1 | qui nhon\n",
      "Processing Record 1 of Set 1 | pareora\n",
      "Processing Record 1 of Set 1 | faya\n",
      "Processing Record 1 of Set 1 | hasaki\n",
      "City not found. Skipping...\n",
      "Processing Record 1 of Set 1 | vila\n",
      "Processing Record 1 of Set 1 | haines junction\n",
      "Processing Record 1 of Set 1 | mortka\n",
      "Processing Record 1 of Set 1 | ipanema\n",
      "Processing Record 1 of Set 1 | rock sound\n",
      "City not found. Skipping...\n",
      "Processing Record 1 of Set 1 | yulara\n",
      "Processing Record 1 of Set 1 | tual\n",
      "Processing Record 1 of Set 1 | waipawa\n",
      "Processing Record 1 of Set 1 | onda\n",
      "City not found. Skipping...\n",
      "Processing Record 1 of Set 1 | sioux lookout\n",
      "Processing Record 1 of Set 1 | batagay-alyta\n",
      "Processing Record 1 of Set 1 | mweka\n",
      "Processing Record 1 of Set 1 | leningradskiy\n",
      "Processing Record 1 of Set 1 | oyama\n",
      "Processing Record 1 of Set 1 | salinopolis\n",
      "Processing Record 1 of Set 1 | sao jose da coroa grande\n",
      "Processing Record 1 of Set 1 | kavieng\n",
      "Processing Record 1 of Set 1 | honiara\n",
      "Processing Record 1 of Set 1 | marshall\n",
      "Processing Record 1 of Set 1 | ostrovnoy\n",
      "Processing Record 1 of Set 1 | orange walk\n",
      "City not found. Skipping...\n",
      "Processing Record 1 of Set 1 | xiaoweizhai\n",
      "Processing Record 1 of Set 1 | neepawa\n",
      "Processing Record 1 of Set 1 | sao felix do xingu\n",
      "Processing Record 1 of Set 1 | wundanyi\n",
      "Processing Record 1 of Set 1 | beira\n",
      "City not found. Skipping...\n",
      "Processing Record 1 of Set 1 | abapo\n",
      "Processing Record 1 of Set 1 | paamiut\n",
      "Processing Record 1 of Set 1 | novoorsk\n",
      "Processing Record 1 of Set 1 | santa maria\n",
      "Processing Record 1 of Set 1 | peniche\n",
      "Processing Record 1 of Set 1 | yumen\n",
      "Processing Record 1 of Set 1 | marawi\n",
      "Processing Record 1 of Set 1 | thap than\n",
      "Processing Record 1 of Set 1 | kavaratti\n",
      "Processing Record 1 of Set 1 | candido de abreu\n",
      "Processing Record 1 of Set 1 | heishan\n",
      "Processing Record 1 of Set 1 | provideniya\n",
      "Processing Record 1 of Set 1 | enshi\n",
      "City not found. Skipping...\n",
      "Processing Record 1 of Set 1 | yantal\n",
      "Processing Record 1 of Set 1 | oriximina\n",
      "Processing Record 1 of Set 1 | erenhot\n",
      "Processing Record 1 of Set 1 | itacoatiara\n",
      "Processing Record 1 of Set 1 | alta floresta\n",
      "Processing Record 1 of Set 1 | bandar-e lengeh\n",
      "Processing Record 1 of Set 1 | laurel\n",
      "Processing Record 1 of Set 1 | nemuro\n",
      "Processing Record 1 of Set 1 | saint-augustin\n",
      "Processing Record 1 of Set 1 | lampazos de naranjo\n",
      "Processing Record 1 of Set 1 | jalu\n",
      "Processing Record 1 of Set 1 | komsomolskiy\n",
      "Processing Record 1 of Set 1 | dvinskoy\n",
      "Processing Record 1 of Set 1 | sao filipe\n",
      "City not found. Skipping...\n",
      "Processing Record 1 of Set 1 | zhanakorgan\n",
      "Processing Record 1 of Set 1 | brebes\n",
      "City not found. Skipping...\n",
      "Processing Record 1 of Set 1 | ziro\n",
      "Processing Record 1 of Set 1 | iqaluit\n",
      "Processing Record 1 of Set 1 | xining\n",
      "Processing Record 1 of Set 1 | sibu\n",
      "Processing Record 1 of Set 1 | saint-pierre\n",
      "Processing Record 1 of Set 1 | buta\n",
      "Processing Record 1 of Set 1 | hwange\n",
      "City not found. Skipping...\n",
      "Processing Record 1 of Set 1 | guerrero negro\n",
      "Processing Record 1 of Set 1 | nome\n",
      "Processing Record 1 of Set 1 | urucara\n",
      "City not found. Skipping...\n",
      "Processing Record 1 of Set 1 | ilulissat\n",
      "Processing Record 1 of Set 1 | katherine\n",
      "Processing Record 1 of Set 1 | qaqortoq\n",
      "City not found. Skipping...\n",
      "Processing Record 1 of Set 1 | port blair\n",
      "Processing Record 1 of Set 1 | ambon\n",
      "Processing Record 1 of Set 1 | puerto lleras\n",
      "Processing Record 1 of Set 1 | gushikawa\n",
      "Processing Record 1 of Set 1 | merauke\n",
      "Processing Record 1 of Set 1 | waitati\n",
      "City not found. Skipping...\n",
      "Processing Record 1 of Set 1 | andenes\n",
      "Processing Record 1 of Set 1 | ixtapa\n",
      "Processing Record 1 of Set 1 | tadine\n",
      "Processing Record 1 of Set 1 | ericeira\n",
      "Processing Record 1 of Set 1 | tura\n",
      "Processing Record 1 of Set 1 | san juan\n",
      "Processing Record 1 of Set 1 | los llanos de aridane\n",
      "Processing Record 1 of Set 1 | roma\n",
      "Processing Record 1 of Set 1 | tezu\n",
      "Processing Record 1 of Set 1 | adrar\n",
      "Processing Record 1 of Set 1 | warner robins\n",
      "Processing Record 1 of Set 1 | lata\n",
      "Processing Record 1 of Set 1 | hidas\n",
      "Processing Record 1 of Set 1 | segezha\n",
      "Processing Record 1 of Set 1 | lebu\n",
      "Processing Record 1 of Set 1 | ilo\n",
      "Processing Record 1 of Set 1 | rabo de peixe\n",
      "Processing Record 1 of Set 1 | broome\n",
      "Processing Record 1 of Set 1 | puerto escondido\n",
      "Processing Record 1 of Set 1 | ajdabiya\n",
      "Processing Record 1 of Set 1 | thompson\n",
      "Processing Record 1 of Set 1 | ust-nera\n",
      "Processing Record 1 of Set 1 | botou\n",
      "Processing Record 1 of Set 1 | taveta\n",
      "City not found. Skipping...\n",
      "Processing Record 1 of Set 1 | ucluelet\n",
      "City not found. Skipping...\n",
      "Processing Record 1 of Set 1 | mega\n",
      "Processing Record 1 of Set 1 | bonfim\n",
      "Processing Record 1 of Set 1 | riyadh\n",
      "Processing Record 1 of Set 1 | nioro\n",
      "Processing Record 1 of Set 1 | westport\n",
      "Processing Record 1 of Set 1 | wawa\n",
      "Processing Record 1 of Set 1 | inhambane\n",
      "Processing Record 1 of Set 1 | mysliborz\n",
      "City not found. Skipping...\n",
      "Processing Record 1 of Set 1 | kindu\n",
      "Processing Record 1 of Set 1 | middletown\n",
      "Processing Record 1 of Set 1 | arlit\n",
      "Processing Record 1 of Set 1 | whitehorse\n",
      "Processing Record 1 of Set 1 | broken hill\n",
      "Processing Record 1 of Set 1 | ebetsu\n",
      "Processing Record 1 of Set 1 | sioni\n",
      "Processing Record 1 of Set 1 | lerwick\n",
      "Processing Record 1 of Set 1 | dzhebariki-khaya\n",
      "Processing Record 1 of Set 1 | assen\n",
      "City not found. Skipping...\n",
      "Processing Record 1 of Set 1 | kushima\n",
      "Processing Record 1 of Set 1 | plettenberg bay\n",
      "Processing Record 1 of Set 1 | ankpa\n",
      "Processing Record 1 of Set 1 | tiksi\n",
      "Processing Record 1 of Set 1 | san vicente\n",
      "Processing Record 1 of Set 1 | crestline\n",
      "Processing Record 1 of Set 1 | brae\n",
      "Processing Record 1 of Set 1 | santa isabel\n",
      "Processing Record 1 of Set 1 | cayenne\n",
      "Processing Record 1 of Set 1 | takoradi\n",
      "Processing Record 1 of Set 1 | chuy\n",
      "Processing Record 1 of Set 1 | entre rios\n",
      "Processing Record 1 of Set 1 | tonantins\n",
      "Processing Record 1 of Set 1 | seoul\n",
      "Processing Record 1 of Set 1 | sao paulo de olivenca\n",
      "Processing Record 1 of Set 1 | eskisehir\n",
      "Processing Record 1 of Set 1 | namatanai\n",
      "Processing Record 1 of Set 1 | bani walid\n",
      "City not found. Skipping...\n",
      "Processing Record 1 of Set 1 | itarema\n",
      "Processing Record 1 of Set 1 | saint-francois\n",
      "Processing Record 1 of Set 1 | leh\n",
      "Processing Record 1 of Set 1 | ryotsu\n",
      "Processing Record 1 of Set 1 | aklavik\n",
      "Processing Record 1 of Set 1 | cidreira\n",
      "Processing Record 1 of Set 1 | douglas\n",
      "Processing Record 1 of Set 1 | liku\n",
      "Processing Record 1 of Set 1 | alugan\n",
      "City not found. Skipping...\n",
      "Processing Record 1 of Set 1 | noumea\n",
      "Processing Record 1 of Set 1 | touros\n",
      "City not found. Skipping...\n",
      "Processing Record 1 of Set 1 | miraflores\n",
      "Processing Record 1 of Set 1 | ubatuba\n",
      "Processing Record 1 of Set 1 | kalemie\n",
      "Processing Record 1 of Set 1 | vestmannaeyjar\n",
      "Processing Record 1 of Set 1 | deputatskiy\n",
      "Processing Record 1 of Set 1 | uige\n",
      "Processing Record 1 of Set 1 | diffa\n",
      "Processing Record 1 of Set 1 | aracruz\n"
     ]
    },
    {
     "name": "stdout",
     "output_type": "stream",
     "text": [
      "Processing Record 1 of Set 1 | kenai\n",
      "Processing Record 1 of Set 1 | batsfjord\n",
      "Processing Record 1 of Set 1 | padang\n",
      "Processing Record 1 of Set 1 | liverpool\n",
      "Processing Record 1 of Set 1 | cabo san lucas\n",
      "Processing Record 1 of Set 1 | saskylakh\n",
      "Processing Record 1 of Set 1 | henties bay\n",
      "Processing Record 1 of Set 1 | tuatapere\n",
      "Processing Record 1 of Set 1 | nong bua\n",
      "Processing Record 1 of Set 1 | ahuimanu\n",
      "Processing Record 1 of Set 1 | nizhniy kislyay\n",
      "Processing Record 1 of Set 1 | sola\n",
      "Processing Record 1 of Set 1 | yate\n",
      "Processing Record 1 of Set 1 | conceicao do araguaia\n",
      "Processing Record 1 of Set 1 | meadow lake\n",
      "Processing Record 1 of Set 1 | bosaso\n",
      "City not found. Skipping...\n",
      "Processing Record 1 of Set 1 | vianden\n",
      "Processing Record 1 of Set 1 | tautira\n",
      "Processing Record 1 of Set 1 | plast\n",
      "Processing Record 1 of Set 1 | praia\n",
      "City not found. Skipping...\n",
      "Processing Record 1 of Set 1 | the valley\n",
      "Processing Record 1 of Set 1 | san onofre\n",
      "Processing Record 1 of Set 1 | matagami\n",
      "Processing Record 1 of Set 1 | longyearbyen\n",
      "Processing Record 1 of Set 1 | lezajsk\n",
      "Processing Record 1 of Set 1 | pak phanang\n",
      "Processing Record 1 of Set 1 | kulhudhuffushi\n",
      "Processing Record 1 of Set 1 | sitka\n",
      "Processing Record 1 of Set 1 | manzhouli\n",
      "Processing Record 1 of Set 1 | sur\n",
      "Processing Record 1 of Set 1 | paungde\n",
      "Processing Record 1 of Set 1 | jacareacanga\n",
      "Processing Record 1 of Set 1 | khandbari\n",
      "City not found. Skipping...\n",
      "Processing Record 1 of Set 1 | cassilandia\n",
      "Processing Record 1 of Set 1 | katsuura\n",
      "Processing Record 1 of Set 1 | college\n",
      "Processing Record 1 of Set 1 | boguszow-gorce\n",
      "Processing Record 1 of Set 1 | moranbah\n",
      "Processing Record 1 of Set 1 | shakawe\n",
      "Processing Record 1 of Set 1 | bandundu\n",
      "Processing Record 1 of Set 1 | aykhal\n",
      "Processing Record 1 of Set 1 | muros\n",
      "Processing Record 1 of Set 1 | mayna\n",
      "Processing Record 1 of Set 1 | berdigestyakh\n",
      "Processing Record 1 of Set 1 | marsa matruh\n",
      "City not found. Skipping...\n",
      "Processing Record 1 of Set 1 | lopandino\n",
      "Processing Record 1 of Set 1 | townsville\n",
      "Processing Record 1 of Set 1 | karratha\n",
      "Processing Record 1 of Set 1 | lazaro cardenas\n",
      "Processing Record 1 of Set 1 | fairbanks\n",
      "Processing Record 1 of Set 1 | talcahuano\n",
      "Processing Record 1 of Set 1 | borogontsy\n",
      "Processing Record 1 of Set 1 | berlevag\n",
      "Processing Record 1 of Set 1 | la presa\n",
      "Processing Record 1 of Set 1 | marystown\n",
      "Processing Record 1 of Set 1 | kangaatsiaq\n",
      "Processing Record 1 of Set 1 | iskateley\n",
      "City not found. Skipping...\n",
      "Processing Record 1 of Set 1 | kushiro\n",
      "Processing Record 1 of Set 1 | coquimbo\n",
      "Processing Record 1 of Set 1 | krasnoselkup\n",
      "City not found. Skipping...\n",
      "Processing Record 1 of Set 1 | goure\n",
      "Processing Record 1 of Set 1 | odienne\n",
      "Processing Record 1 of Set 1 | moengo\n",
      "Processing Record 1 of Set 1 | atar\n",
      "Processing Record 1 of Set 1 | benghazi\n",
      "Processing Record 1 of Set 1 | mocuba\n",
      "Processing Record 1 of Set 1 | buala\n",
      "Processing Record 1 of Set 1 | sorland\n",
      "Processing Record 1 of Set 1 | praya\n",
      "Processing Record 1 of Set 1 | ambovombe\n",
      "Processing Record 1 of Set 1 | vardo\n",
      "Processing Record 1 of Set 1 | estevan\n",
      "Processing Record 1 of Set 1 | constitucion\n",
      "Processing Record 1 of Set 1 | imbituba\n",
      "Processing Record 1 of Set 1 | srednekolymsk\n",
      "Processing Record 1 of Set 1 | karlshamn\n",
      "Processing Record 1 of Set 1 | bardiyah\n",
      "Processing Record 1 of Set 1 | saint george\n",
      "Processing Record 1 of Set 1 | egvekinot\n",
      "Processing Record 1 of Set 1 | bathsheba\n",
      "Processing Record 1 of Set 1 | gigmoto\n",
      "Processing Record 1 of Set 1 | gat\n",
      "Processing Record 1 of Set 1 | dese\n",
      "Processing Record 1 of Set 1 | dingtao\n",
      "Processing Record 1 of Set 1 | rafsanjan\n",
      "Processing Record 1 of Set 1 | kungurtug\n",
      "Processing Record 1 of Set 1 | yakima\n",
      "Processing Record 1 of Set 1 | bordusani\n",
      "Processing Record 1 of Set 1 | acapulco\n",
      "Processing Record 1 of Set 1 | labrea\n",
      "City not found. Skipping...\n",
      "Processing Record 1 of Set 1 | xuanhua\n",
      "Processing Record 1 of Set 1 | mana\n",
      "Processing Record 1 of Set 1 | akdepe\n",
      "Processing Record 1 of Set 1 | tukrah\n",
      "Processing Record 1 of Set 1 | pyshma\n",
      "Processing Record 1 of Set 1 | nisia floresta\n",
      "Processing Record 1 of Set 1 | lima\n",
      "Processing Record 1 of Set 1 | cotonou\n",
      "Processing Record 1 of Set 1 | sinop\n",
      "Processing Record 1 of Set 1 | chapais\n",
      "Processing Record 1 of Set 1 | jasper\n",
      "Processing Record 1 of Set 1 | vozhega\n",
      "Processing Record 1 of Set 1 | pyay\n",
      "Processing Record 1 of Set 1 | esna\n",
      "City not found. Skipping...\n",
      "Processing Record 1 of Set 1 | ippy\n",
      "City not found. Skipping...\n",
      "Processing Record 1 of Set 1 | vanavara\n",
      "Processing Record 1 of Set 1 | praia da vitoria\n",
      "City not found. Skipping...\n",
      "Processing Record 1 of Set 1 | bathurst\n",
      "Processing Record 1 of Set 1 | dwarka\n",
      "Processing Record 1 of Set 1 | rosetta\n",
      "Processing Record 1 of Set 1 | poli\n",
      "Processing Record 1 of Set 1 | uyuni\n",
      "Processing Record 1 of Set 1 | gizo\n",
      "Processing Record 1 of Set 1 | mizdah\n",
      "Processing Record 1 of Set 1 | nador\n",
      "Processing Record 1 of Set 1 | araouane\n",
      "Processing Record 1 of Set 1 | mitu\n",
      "City not found. Skipping...\n",
      "Processing Record 1 of Set 1 | djambala\n",
      "Processing Record 1 of Set 1 | navahrudak\n",
      "Processing Record 1 of Set 1 | lebanon\n",
      "Processing Record 1 of Set 1 | shetpe\n",
      "Processing Record 1 of Set 1 | kajaani\n",
      "Processing Record 1 of Set 1 | pozo colorado\n",
      "City not found. Skipping...\n",
      "Processing Record 1 of Set 1 | miramar\n",
      "Processing Record 1 of Set 1 | manggar\n",
      "Processing Record 1 of Set 1 | xinpu\n",
      "Processing Record 1 of Set 1 | gamba\n",
      "Processing Record 1 of Set 1 | verkhoyansk\n",
      "Processing Record 1 of Set 1 | muli\n",
      "Processing Record 1 of Set 1 | roebourne\n",
      "Processing Record 1 of Set 1 | gravdal\n",
      "Processing Record 1 of Set 1 | tynda\n",
      "Processing Record 1 of Set 1 | yashkul\n",
      "City not found. Skipping...\n",
      "Processing Record 1 of Set 1 | half moon bay\n",
      "Processing Record 1 of Set 1 | talnakh\n",
      "Processing Record 1 of Set 1 | yar-sale\n",
      "Processing Record 1 of Set 1 | dickinson\n",
      "City not found. Skipping...\n",
      "Processing Record 1 of Set 1 | toora-khem\n",
      "Processing Record 1 of Set 1 | esfarayen\n",
      "Processing Record 1 of Set 1 | ekhabi\n",
      "Processing Record 1 of Set 1 | odweyne\n",
      "Processing Record 1 of Set 1 | port hawkesbury\n",
      "Processing Record 1 of Set 1 | obanazawa\n",
      "Processing Record 1 of Set 1 | gasa\n",
      "Processing Record 1 of Set 1 | ostersund\n",
      "Processing Record 1 of Set 1 | palamuse\n",
      "Processing Record 1 of Set 1 | tocopilla\n",
      "Processing Record 1 of Set 1 | udachnyy\n",
      "Processing Record 1 of Set 1 | chadan\n",
      "Processing Record 1 of Set 1 | tias\n",
      "Processing Record 1 of Set 1 | biltine\n",
      "Processing Record 1 of Set 1 | husavik\n",
      "Processing Record 1 of Set 1 | tamandare\n",
      "Processing Record 1 of Set 1 | anadyr\n",
      "Processing Record 1 of Set 1 | sevierville\n",
      "Processing Record 1 of Set 1 | ilula\n",
      "Processing Record 1 of Set 1 | puerto baquerizo moreno\n",
      "Processing Record 1 of Set 1 | zlobin\n",
      "Processing Record 1 of Set 1 | maraba\n",
      "Processing Record 1 of Set 1 | tarakan\n",
      "Processing Record 1 of Set 1 | leshan\n",
      "Processing Record 1 of Set 1 | khasan\n",
      "Processing Record 1 of Set 1 | ialibu\n",
      "Processing Record 1 of Set 1 | balabac\n",
      "Processing Record 1 of Set 1 | tessalit\n",
      "City not found. Skipping...\n",
      "Processing Record 1 of Set 1 | naron\n",
      "City not found. Skipping...\n",
      "Processing Record 1 of Set 1 | dunedin\n",
      "Processing Record 1 of Set 1 | palu\n",
      "Processing Record 1 of Set 1 | igarka\n",
      "Processing Record 1 of Set 1 | kurduvadi\n",
      "-----------------------------\n",
      "Data Retrieval Complete\n",
      "-----------------------------\n"
     ]
    }
   ],
   "source": [
    "for city_name in citiesl:\n",
    "    weather_response=requests.get(query_url+city_name).json()\n",
    "    try:\n",
    "#         query_url = f\"{url}appid={weather_api_key}&units={units}\"\n",
    "#         weather_response=requests.get(query_url)\n",
    "#         weather_response=requests.get(query_url+city_name).json()\n",
    "        City.append(weather_response['name'])\n",
    "        Lat.append(weather_response['coord']['lat'])\n",
    "        Lng.append(weather_response['coord']['lon'])\n",
    "        Max_Temp.append(weather_response['main']['temp_max'])\n",
    "        Humidity.append(weather_response['main']['humidity'])\n",
    "        Cloudiness.append(weather_response['clouds']['all'])\n",
    "        Wind_Speed.append(weather_response['wind']['speed'])\n",
    "        Country.append(weather_response['sys']['country'])\n",
    "        Date.append(weather_response['dt'])\n",
    "        print(f\"Processing Record 1 of Set 1 | {city_name}\")    \n",
    "        \n",
    "    except:\n",
    "        print(\"City not found. Skipping...\")\n",
    "        pass\n",
    "print(\"-----------------------------\")\n",
    "print(\"Data Retrieval Complete\")     \n",
    "print(\"-----------------------------\")"
   ]
  },
  {
   "cell_type": "code",
   "execution_count": null,
   "metadata": {},
   "outputs": [],
   "source": [
    "# print(f\"The latitude information received is: {Lat}\")"
   ]
  },
  {
   "cell_type": "code",
   "execution_count": null,
   "metadata": {},
   "outputs": [],
   "source": [
    "# print(f\"The longitude information received is: {Lng}\")"
   ]
  },
  {
   "cell_type": "code",
   "execution_count": null,
   "metadata": {},
   "outputs": [],
   "source": [
    "# print(f\"The maximum temperature is: {Max_Temp}\")"
   ]
  },
  {
   "cell_type": "code",
   "execution_count": null,
   "metadata": {},
   "outputs": [],
   "source": [
    "# print(f\"The humidty is: {Humidity}\")"
   ]
  },
  {
   "cell_type": "code",
   "execution_count": null,
   "metadata": {},
   "outputs": [],
   "source": [
    "# print(f\"The cloudiness is: {Cloudiness}\")"
   ]
  },
  {
   "cell_type": "code",
   "execution_count": null,
   "metadata": {},
   "outputs": [],
   "source": [
    "# print(f\"The wind speed is: {Wind_Speed}\")"
   ]
  },
  {
   "cell_type": "code",
   "execution_count": null,
   "metadata": {},
   "outputs": [],
   "source": [
    "# print(f\"The counry is: {Country}\")"
   ]
  },
  {
   "cell_type": "code",
   "execution_count": null,
   "metadata": {},
   "outputs": [],
   "source": []
  },
  {
   "cell_type": "code",
   "execution_count": null,
   "metadata": {},
   "outputs": [],
   "source": [
    "\n",
    "    "
   ]
  },
  {
   "cell_type": "code",
   "execution_count": null,
   "metadata": {},
   "outputs": [],
   "source": []
  },
  {
   "cell_type": "markdown",
   "metadata": {},
   "source": [
    "### Convert Raw Data to DataFrame\n",
    "* Export the city data into a .csv.\n",
    "* Display the DataFrame"
   ]
  },
  {
   "cell_type": "code",
   "execution_count": 12,
   "metadata": {},
   "outputs": [],
   "source": [
    "weather_data={'City': City,\n",
    "'Latitude':Lat,\n",
    "'Longitude':Lng,\n",
    "'Max Temp': Max_Temp,\n",
    "'Humidity': Humidity,\n",
    "'Cloudiness': Cloudiness,\n",
    "'Wind_Speed': Wind_Speed,\n",
    "'Country': Country,\n",
    "'Date': Date}"
   ]
  },
  {
   "cell_type": "code",
   "execution_count": null,
   "metadata": {},
   "outputs": [],
   "source": []
  },
  {
   "cell_type": "code",
   "execution_count": null,
   "metadata": {},
   "outputs": [],
   "source": [
    "# print(len(City), len(Lat), len(Lng), len(Max_Temp), len(Humidity), len(Cloudiness), len(Wind_Speed), len(Country), len(Date))"
   ]
  },
  {
   "cell_type": "code",
   "execution_count": 13,
   "metadata": {},
   "outputs": [],
   "source": [
    "df=pd.DataFrame(weather_data)\n"
   ]
  },
  {
   "cell_type": "code",
   "execution_count": 14,
   "metadata": {},
   "outputs": [
    {
     "data": {
      "text/html": [
       "<div>\n",
       "<style scoped>\n",
       "    .dataframe tbody tr th:only-of-type {\n",
       "        vertical-align: middle;\n",
       "    }\n",
       "\n",
       "    .dataframe tbody tr th {\n",
       "        vertical-align: top;\n",
       "    }\n",
       "\n",
       "    .dataframe thead th {\n",
       "        text-align: right;\n",
       "    }\n",
       "</style>\n",
       "<table border=\"1\" class=\"dataframe\">\n",
       "  <thead>\n",
       "    <tr style=\"text-align: right;\">\n",
       "      <th></th>\n",
       "      <th>City</th>\n",
       "      <th>Latitude</th>\n",
       "      <th>Longitude</th>\n",
       "      <th>Max Temp</th>\n",
       "      <th>Humidity</th>\n",
       "      <th>Cloudiness</th>\n",
       "      <th>Wind_Speed</th>\n",
       "      <th>Country</th>\n",
       "      <th>Date</th>\n",
       "    </tr>\n",
       "  </thead>\n",
       "  <tbody>\n",
       "    <tr>\n",
       "      <th>0</th>\n",
       "      <td>Freeport</td>\n",
       "      <td>40.66</td>\n",
       "      <td>-73.58</td>\n",
       "      <td>70.00</td>\n",
       "      <td>83</td>\n",
       "      <td>1</td>\n",
       "      <td>10.29</td>\n",
       "      <td>US</td>\n",
       "      <td>1601344686</td>\n",
       "    </tr>\n",
       "    <tr>\n",
       "      <th>1</th>\n",
       "      <td>Faanui</td>\n",
       "      <td>-16.48</td>\n",
       "      <td>-151.75</td>\n",
       "      <td>77.76</td>\n",
       "      <td>81</td>\n",
       "      <td>2</td>\n",
       "      <td>19.33</td>\n",
       "      <td>PF</td>\n",
       "      <td>1601344746</td>\n",
       "    </tr>\n",
       "    <tr>\n",
       "      <th>2</th>\n",
       "      <td>Tasiilaq</td>\n",
       "      <td>65.61</td>\n",
       "      <td>-37.64</td>\n",
       "      <td>30.20</td>\n",
       "      <td>100</td>\n",
       "      <td>98</td>\n",
       "      <td>1.12</td>\n",
       "      <td>GL</td>\n",
       "      <td>1601344746</td>\n",
       "    </tr>\n",
       "    <tr>\n",
       "      <th>3</th>\n",
       "      <td>Hermanus</td>\n",
       "      <td>-34.42</td>\n",
       "      <td>19.23</td>\n",
       "      <td>46.99</td>\n",
       "      <td>94</td>\n",
       "      <td>38</td>\n",
       "      <td>7.34</td>\n",
       "      <td>ZA</td>\n",
       "      <td>1601344747</td>\n",
       "    </tr>\n",
       "    <tr>\n",
       "      <th>4</th>\n",
       "      <td>Punta Arenas</td>\n",
       "      <td>-53.15</td>\n",
       "      <td>-70.92</td>\n",
       "      <td>32.00</td>\n",
       "      <td>90</td>\n",
       "      <td>20</td>\n",
       "      <td>10.29</td>\n",
       "      <td>CL</td>\n",
       "      <td>1601344730</td>\n",
       "    </tr>\n",
       "    <tr>\n",
       "      <th>...</th>\n",
       "      <td>...</td>\n",
       "      <td>...</td>\n",
       "      <td>...</td>\n",
       "      <td>...</td>\n",
       "      <td>...</td>\n",
       "      <td>...</td>\n",
       "      <td>...</td>\n",
       "      <td>...</td>\n",
       "      <td>...</td>\n",
       "    </tr>\n",
       "    <tr>\n",
       "      <th>543</th>\n",
       "      <td>Narón</td>\n",
       "      <td>43.52</td>\n",
       "      <td>-8.15</td>\n",
       "      <td>51.80</td>\n",
       "      <td>93</td>\n",
       "      <td>82</td>\n",
       "      <td>2.24</td>\n",
       "      <td>ES</td>\n",
       "      <td>1601344957</td>\n",
       "    </tr>\n",
       "    <tr>\n",
       "      <th>544</th>\n",
       "      <td>Dunedin</td>\n",
       "      <td>-45.87</td>\n",
       "      <td>170.50</td>\n",
       "      <td>43.00</td>\n",
       "      <td>63</td>\n",
       "      <td>100</td>\n",
       "      <td>5.99</td>\n",
       "      <td>NZ</td>\n",
       "      <td>1601344957</td>\n",
       "    </tr>\n",
       "    <tr>\n",
       "      <th>545</th>\n",
       "      <td>Palu</td>\n",
       "      <td>-0.89</td>\n",
       "      <td>119.87</td>\n",
       "      <td>88.34</td>\n",
       "      <td>57</td>\n",
       "      <td>81</td>\n",
       "      <td>1.70</td>\n",
       "      <td>ID</td>\n",
       "      <td>1601344958</td>\n",
       "    </tr>\n",
       "    <tr>\n",
       "      <th>546</th>\n",
       "      <td>Igarka</td>\n",
       "      <td>67.47</td>\n",
       "      <td>86.58</td>\n",
       "      <td>30.97</td>\n",
       "      <td>94</td>\n",
       "      <td>14</td>\n",
       "      <td>9.31</td>\n",
       "      <td>RU</td>\n",
       "      <td>1601344958</td>\n",
       "    </tr>\n",
       "    <tr>\n",
       "      <th>547</th>\n",
       "      <td>Kurduvādi</td>\n",
       "      <td>18.08</td>\n",
       "      <td>75.43</td>\n",
       "      <td>74.91</td>\n",
       "      <td>81</td>\n",
       "      <td>41</td>\n",
       "      <td>6.87</td>\n",
       "      <td>IN</td>\n",
       "      <td>1601344958</td>\n",
       "    </tr>\n",
       "  </tbody>\n",
       "</table>\n",
       "<p>548 rows × 9 columns</p>\n",
       "</div>"
      ],
      "text/plain": [
       "             City  Latitude  Longitude  Max Temp  Humidity  Cloudiness  \\\n",
       "0        Freeport     40.66     -73.58     70.00        83           1   \n",
       "1          Faanui    -16.48    -151.75     77.76        81           2   \n",
       "2        Tasiilaq     65.61     -37.64     30.20       100          98   \n",
       "3        Hermanus    -34.42      19.23     46.99        94          38   \n",
       "4    Punta Arenas    -53.15     -70.92     32.00        90          20   \n",
       "..            ...       ...        ...       ...       ...         ...   \n",
       "543         Narón     43.52      -8.15     51.80        93          82   \n",
       "544       Dunedin    -45.87     170.50     43.00        63         100   \n",
       "545          Palu     -0.89     119.87     88.34        57          81   \n",
       "546        Igarka     67.47      86.58     30.97        94          14   \n",
       "547     Kurduvādi     18.08      75.43     74.91        81          41   \n",
       "\n",
       "     Wind_Speed Country        Date  \n",
       "0         10.29      US  1601344686  \n",
       "1         19.33      PF  1601344746  \n",
       "2          1.12      GL  1601344746  \n",
       "3          7.34      ZA  1601344747  \n",
       "4         10.29      CL  1601344730  \n",
       "..          ...     ...         ...  \n",
       "543        2.24      ES  1601344957  \n",
       "544        5.99      NZ  1601344957  \n",
       "545        1.70      ID  1601344958  \n",
       "546        9.31      RU  1601344958  \n",
       "547        6.87      IN  1601344958  \n",
       "\n",
       "[548 rows x 9 columns]"
      ]
     },
     "execution_count": 14,
     "metadata": {},
     "output_type": "execute_result"
    }
   ],
   "source": [
    "df"
   ]
  },
  {
   "cell_type": "code",
   "execution_count": 15,
   "metadata": {},
   "outputs": [
    {
     "data": {
      "text/html": [
       "<div>\n",
       "<style scoped>\n",
       "    .dataframe tbody tr th:only-of-type {\n",
       "        vertical-align: middle;\n",
       "    }\n",
       "\n",
       "    .dataframe tbody tr th {\n",
       "        vertical-align: top;\n",
       "    }\n",
       "\n",
       "    .dataframe thead th {\n",
       "        text-align: right;\n",
       "    }\n",
       "</style>\n",
       "<table border=\"1\" class=\"dataframe\">\n",
       "  <thead>\n",
       "    <tr style=\"text-align: right;\">\n",
       "      <th></th>\n",
       "      <th>Latitude</th>\n",
       "      <th>Longitude</th>\n",
       "      <th>Max Temp</th>\n",
       "      <th>Humidity</th>\n",
       "      <th>Cloudiness</th>\n",
       "      <th>Wind_Speed</th>\n",
       "      <th>Date</th>\n",
       "    </tr>\n",
       "  </thead>\n",
       "  <tbody>\n",
       "    <tr>\n",
       "      <th>count</th>\n",
       "      <td>548.000000</td>\n",
       "      <td>548.000000</td>\n",
       "      <td>548.000000</td>\n",
       "      <td>548.000000</td>\n",
       "      <td>548.000000</td>\n",
       "      <td>548.000000</td>\n",
       "      <td>5.480000e+02</td>\n",
       "    </tr>\n",
       "    <tr>\n",
       "      <th>mean</th>\n",
       "      <td>19.643394</td>\n",
       "      <td>19.287737</td>\n",
       "      <td>63.992573</td>\n",
       "      <td>73.187956</td>\n",
       "      <td>51.985401</td>\n",
       "      <td>7.745748</td>\n",
       "      <td>1.601345e+09</td>\n",
       "    </tr>\n",
       "    <tr>\n",
       "      <th>std</th>\n",
       "      <td>33.410574</td>\n",
       "      <td>90.447734</td>\n",
       "      <td>16.384615</td>\n",
       "      <td>19.791031</td>\n",
       "      <td>39.465299</td>\n",
       "      <td>5.055584</td>\n",
       "      <td>8.984974e+01</td>\n",
       "    </tr>\n",
       "    <tr>\n",
       "      <th>min</th>\n",
       "      <td>-54.800000</td>\n",
       "      <td>-179.170000</td>\n",
       "      <td>12.580000</td>\n",
       "      <td>9.000000</td>\n",
       "      <td>0.000000</td>\n",
       "      <td>0.130000</td>\n",
       "      <td>1.601344e+09</td>\n",
       "    </tr>\n",
       "    <tr>\n",
       "      <th>25%</th>\n",
       "      <td>-6.872500</td>\n",
       "      <td>-56.502500</td>\n",
       "      <td>51.800000</td>\n",
       "      <td>62.000000</td>\n",
       "      <td>9.000000</td>\n",
       "      <td>3.685000</td>\n",
       "      <td>1.601345e+09</td>\n",
       "    </tr>\n",
       "    <tr>\n",
       "      <th>50%</th>\n",
       "      <td>22.265000</td>\n",
       "      <td>20.150000</td>\n",
       "      <td>67.085000</td>\n",
       "      <td>78.000000</td>\n",
       "      <td>52.000000</td>\n",
       "      <td>6.845000</td>\n",
       "      <td>1.601345e+09</td>\n",
       "    </tr>\n",
       "    <tr>\n",
       "      <th>75%</th>\n",
       "      <td>46.560000</td>\n",
       "      <td>102.815000</td>\n",
       "      <td>77.700000</td>\n",
       "      <td>88.000000</td>\n",
       "      <td>91.000000</td>\n",
       "      <td>10.290000</td>\n",
       "      <td>1.601345e+09</td>\n",
       "    </tr>\n",
       "    <tr>\n",
       "      <th>max</th>\n",
       "      <td>78.220000</td>\n",
       "      <td>179.320000</td>\n",
       "      <td>100.400000</td>\n",
       "      <td>100.000000</td>\n",
       "      <td>100.000000</td>\n",
       "      <td>25.340000</td>\n",
       "      <td>1.601345e+09</td>\n",
       "    </tr>\n",
       "  </tbody>\n",
       "</table>\n",
       "</div>"
      ],
      "text/plain": [
       "         Latitude   Longitude    Max Temp    Humidity  Cloudiness  Wind_Speed  \\\n",
       "count  548.000000  548.000000  548.000000  548.000000  548.000000  548.000000   \n",
       "mean    19.643394   19.287737   63.992573   73.187956   51.985401    7.745748   \n",
       "std     33.410574   90.447734   16.384615   19.791031   39.465299    5.055584   \n",
       "min    -54.800000 -179.170000   12.580000    9.000000    0.000000    0.130000   \n",
       "25%     -6.872500  -56.502500   51.800000   62.000000    9.000000    3.685000   \n",
       "50%     22.265000   20.150000   67.085000   78.000000   52.000000    6.845000   \n",
       "75%     46.560000  102.815000   77.700000   88.000000   91.000000   10.290000   \n",
       "max     78.220000  179.320000  100.400000  100.000000  100.000000   25.340000   \n",
       "\n",
       "               Date  \n",
       "count  5.480000e+02  \n",
       "mean   1.601345e+09  \n",
       "std    8.984974e+01  \n",
       "min    1.601344e+09  \n",
       "25%    1.601345e+09  \n",
       "50%    1.601345e+09  \n",
       "75%    1.601345e+09  \n",
       "max    1.601345e+09  "
      ]
     },
     "execution_count": 15,
     "metadata": {},
     "output_type": "execute_result"
    }
   ],
   "source": [
    "df.describe()"
   ]
  },
  {
   "cell_type": "code",
   "execution_count": null,
   "metadata": {},
   "outputs": [],
   "source": [
    "# s1=pd.Series(City, name=\"City\")\n",
    "# s2=pd.Series(Lat, name=\"Latitude\")\n",
    "# s3=pd.Series(Lng, name=\"Longitude\")\n",
    "# s4=pd.Series(Max_Temp, name=\"Max Temp\")\n",
    "# s5=pd.Series(Humidity, name=\"Humidity\")\n",
    "# s6=pd.Series(Cloudiness, name=\"Cloudiness\")\n",
    "# s7=pd.Series(Wind_Speed, name=\"Wind Speed\")\n",
    "# s8=pd.Series(Country, name=\"Country\")\n",
    "# s9=pd.Series(Date, name=\"Date\")\n",
    "# df = pd.concat([s1,s2,s3,s4,s5,s6,s7,s8,s9], axis=1)\n",
    "# df"
   ]
  },
  {
   "cell_type": "code",
   "execution_count": null,
   "metadata": {},
   "outputs": [],
   "source": [
    "# df = df.dropna(how='any')\n",
    "# df"
   ]
  },
  {
   "cell_type": "code",
   "execution_count": 16,
   "metadata": {},
   "outputs": [],
   "source": [
    "df.to_csv(\"WeatherPy.csv\")"
   ]
  },
  {
   "cell_type": "code",
   "execution_count": null,
   "metadata": {},
   "outputs": [],
   "source": []
  },
  {
   "cell_type": "code",
   "execution_count": null,
   "metadata": {},
   "outputs": [],
   "source": [
    "# l1 = list('abc')\n",
    "# l2 = [1,2,3,4]\n",
    "# s1 = pd.Series(l1, name='list1')\n",
    "# s2 = pd.Series(l2, name='list2')\n",
    "# df = pd.concat([s1,s2], axis=1)\n",
    "# df"
   ]
  },
  {
   "cell_type": "markdown",
   "metadata": {},
   "source": [
    "## Inspect the data and remove the cities where the humidity > 100%.\n",
    "----\n",
    "Skip this step if there are no cities that have humidity > 100%. "
   ]
  },
  {
   "cell_type": "code",
   "execution_count": null,
   "metadata": {},
   "outputs": [],
   "source": [
    "# already did the summary stat frame and there are no cities with humidty with greater than 100"
   ]
  },
  {
   "cell_type": "code",
   "execution_count": null,
   "metadata": {},
   "outputs": [],
   "source": [
    "#  Get the indices of cities that have humidity over 100%.\n"
   ]
  },
  {
   "cell_type": "code",
   "execution_count": null,
   "metadata": {},
   "outputs": [],
   "source": [
    "# Make a new DataFrame equal to the city data to drop all humidity outliers by index.\n",
    "# Passing \"inplace=False\" will make a copy of the city_data DataFrame, which we call \"clean_city_data\".\n"
   ]
  },
  {
   "cell_type": "code",
   "execution_count": null,
   "metadata": {},
   "outputs": [],
   "source": [
    "\n"
   ]
  },
  {
   "cell_type": "markdown",
   "metadata": {},
   "source": [
    "## Plotting the Data\n",
    "* Use proper labeling of the plots using plot titles (including date of analysis) and axes labels.\n",
    "* Save the plotted figures as .pngs."
   ]
  },
  {
   "cell_type": "markdown",
   "metadata": {},
   "source": [
    "## Latitude vs. Temperature Plot"
   ]
  },
  {
   "cell_type": "code",
   "execution_count": 29,
   "metadata": {
    "scrolled": true
   },
   "outputs": [
    {
     "data": {
      "image/png": "[encoded data removed]",
      "text/plain": [
       "<Figure size 432x288 with 1 Axes>"
      ]
     },
     "metadata": {
      "needs_background": "light"
     },
     "output_type": "display_data"
    }
   ],
   "source": [
    "lati=df['Latitude']\n",
    "maxtemp=df['Max Temp']\n",
    "plt.scatter(lati, maxtemp, edgecolors=\"black\",facecolors=\"steelblue\")\n",
    "plt.title('City Latitude vs. Max Temperature (09/28/20)')\n",
    "plt.xlabel('Latitude')\n",
    "plt.ylabel('Max Temperature (F)')\n",
    "plt.grid()\n",
    "plt.savefig(\"City Lat vs Wind Speed.png\")\n"
   ]
  },
  {
   "cell_type": "markdown",
   "metadata": {},
   "source": [
    "## Latitude vs. Humidity Plot"
   ]
  },
  {
   "cell_type": "code",
   "execution_count": 30,
   "metadata": {},
   "outputs": [
    {
     "data": {
      "image/png": "[encoded data removed]",
      "text/plain": [
       "<Figure size 432x288 with 1 Axes>"
      ]
     },
     "metadata": {
      "needs_background": "light"
     },
     "output_type": "display_data"
    }
   ],
   "source": [
    "lati=df['Latitude']\n",
    "hum=df['Humidity']\n",
    "plt.scatter(lati, hum, edgecolors=\"black\",facecolors=\"steelblue\")\n",
    "plt.title('City Latitude vs. Humidity (09/28/20)')\n",
    "plt.xlabel('Latitude')\n",
    "plt.ylabel('Humidty (%)')\n",
    "plt.grid()\n",
    "plt.savefig(\"City Lat vs Humidity.png\")"
   ]
  },
  {
   "cell_type": "markdown",
   "metadata": {},
   "source": [
    "## Latitude vs. Cloudiness Plot"
   ]
  },
  {
   "cell_type": "code",
   "execution_count": 32,
   "metadata": {},
   "outputs": [
    {
     "data": {
      "image/png": "[encoded data removed]",
      "text/plain": [
       "<Figure size 432x288 with 1 Axes>"
      ]
     },
     "metadata": {
      "needs_background": "light"
     },
     "output_type": "display_data"
    }
   ],
   "source": [
    "lati=df['Latitude']\n",
    "cl=df['Cloudiness']\n",
    "plt.scatter(lati, cl, edgecolors=\"black\",facecolors=\"steelblue\")\n",
    "plt.title('City Latitude vs. Cloudiness (09/28/20)')\n",
    "plt.xlabel('Latitude')\n",
    "plt.ylabel('Cloudiness (%)')\n",
    "plt.grid()\n",
    "plt.savefig(\"City Lat vs Cloudiness.png\")"
   ]
  },
  {
   "cell_type": "markdown",
   "metadata": {},
   "source": [
    "## Latitude vs. Wind Speed Plot"
   ]
  },
  {
   "cell_type": "code",
   "execution_count": 34,
   "metadata": {},
   "outputs": [
    {
     "data": {
      "image/png": "[encoded data removed]",
      "text/plain": [
       "<Figure size 432x288 with 1 Axes>"
      ]
     },
     "metadata": {
      "needs_background": "light"
     },
     "output_type": "display_data"
    }
   ],
   "source": [
    "lati=df['Latitude']\n",
    "ws=df['Wind_Speed']\n",
    "plt.scatter(lati, ws, edgecolors=\"black\",facecolors=\"steelblue\")\n",
    "plt.title('City Latitude vs. Wind Speed (09/28/20)')\n",
    "plt.xlabel('Latitude')\n",
    "plt.ylabel('Wind Speed (mph)')\n",
    "plt.grid()\n",
    "plt.savefig(\"City Lat vs Wind Speed.png\")"
   ]
  },
  {
   "cell_type": "markdown",
   "metadata": {},
   "source": [
    "## Linear Regression"
   ]
  },
  {
   "cell_type": "code",
   "execution_count": null,
   "metadata": {},
   "outputs": [],
   "source": []
  },
  {
   "cell_type": "markdown",
   "metadata": {},
   "source": [
    "####  Northern Hemisphere - Max Temp vs. Latitude Linear Regression"
   ]
  },
  {
   "cell_type": "code",
   "execution_count": null,
   "metadata": {},
   "outputs": [],
   "source": []
  },
  {
   "cell_type": "markdown",
   "metadata": {},
   "source": [
    "####  Southern Hemisphere - Max Temp vs. Latitude Linear Regression"
   ]
  },
  {
   "cell_type": "code",
   "execution_count": null,
   "metadata": {},
   "outputs": [],
   "source": []
  },
  {
   "cell_type": "markdown",
   "metadata": {},
   "source": [
    "####  Northern Hemisphere - Humidity (%) vs. Latitude Linear Regression"
   ]
  },
  {
   "cell_type": "code",
   "execution_count": null,
   "metadata": {},
   "outputs": [],
   "source": []
  },
  {
   "cell_type": "markdown",
   "metadata": {},
   "source": [
    "####  Southern Hemisphere - Humidity (%) vs. Latitude Linear Regression"
   ]
  },
  {
   "cell_type": "code",
   "execution_count": null,
   "metadata": {},
   "outputs": [],
   "source": []
  },
  {
   "cell_type": "markdown",
   "metadata": {},
   "source": [
    "####  Northern Hemisphere - Cloudiness (%) vs. Latitude Linear Regression"
   ]
  },
  {
   "cell_type": "code",
   "execution_count": null,
   "metadata": {},
   "outputs": [],
   "source": []
  },
  {
   "cell_type": "markdown",
   "metadata": {},
   "source": [
    "####  Southern Hemisphere - Cloudiness (%) vs. Latitude Linear Regression"
   ]
  },
  {
   "cell_type": "code",
   "execution_count": null,
   "metadata": {},
   "outputs": [],
   "source": []
  },
  {
   "cell_type": "markdown",
   "metadata": {},
   "source": [
    "####  Northern Hemisphere - Wind Speed (mph) vs. Latitude Linear Regression"
   ]
  },
  {
   "cell_type": "code",
   "execution_count": null,
   "metadata": {},
   "outputs": [],
   "source": []
  },
  {
   "cell_type": "markdown",
   "metadata": {},
   "source": [
    "####  Southern Hemisphere - Wind Speed (mph) vs. Latitude Linear Regression"
   ]
  },
  {
   "cell_type": "code",
   "execution_count": null,
   "metadata": {},
   "outputs": [],
   "source": []
  },
  {
   "cell_type": "code",
   "execution_count": null,
   "metadata": {},
   "outputs": [],
   "source": []
  }
 ],
 "metadata": {
  "anaconda-cloud": {},
  "kernel_info": {
   "name": "python3"
  },
  "kernelspec": {
   "display_name": "Python 3",
   "language": "python",
   "name": "python3"
  },
  "language_info": {
   "codemirror_mode": {
    "name": "ipython",
    "version": 3
   },
   "file_extension": ".py",
   "mimetype": "text/x-python",
   "name": "python",
   "nbconvert_exporter": "python",
   "pygments_lexer": "ipython3",
   "version": "3.6.10"
  },
  "latex_envs": {
   "LaTeX_envs_menu_present": true,
   "autoclose": false,
   "autocomplete": true,
   "bibliofile": "biblio.bib",
   "cite_by": "apalike",
   "current_citInitial": 1,
   "eqLabelWithNumbers": true,
   "eqNumInitial": 1,
   "hotkeys": {
    "equation": "Ctrl-E",
    "itemize": "Ctrl-I"
   },
   "labels_anchors": false,
   "latex_user_defs": false,
   "report_style_numbering": false,
   "user_envs_cfg": false
  },
  "nteract": {
   "version": "0.12.3"
  }
 },
 "nbformat": 4,
 "nbformat_minor": 2
}
