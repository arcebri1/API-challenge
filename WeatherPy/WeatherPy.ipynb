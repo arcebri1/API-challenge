{
 "cells": [
  {
   "cell_type": "markdown",
   "metadata": {},
   "source": [
    "# WeatherPy\n",
    "----\n",
    "\n",
    "#### Note\n",
    "* Instructions have been included for each segment. You do not have to follow them exactly, but they are included to help you think through the steps."
   ]
  },
  {
   "cell_type": "code",
   "execution_count": null,
   "metadata": {},
   "outputs": [],
   "source": [
    "! pip install citipy"
   ]
  },
  {
   "cell_type": "code",
   "execution_count": 5,
   "metadata": {
    "scrolled": true
   },
   "outputs": [],
   "source": [
    "import matplotlib.pyplot as plt\n",
    "import requests\n",
    "from scipy import stats\n",
    "import pandas as pd\n",
    "import json\n",
    "import random\n",
    "import numpy as np\n",
    "from scipy.stats import linregress\n",
    "from api_keys import weather_api_key\n",
    "from citipy import citipy\n"
   ]
  },
  {
   "cell_type": "code",
   "execution_count": null,
   "metadata": {},
   "outputs": [],
   "source": [
    "url = \"http://api.openweathermap.org/data/2.5/weather?\"\n",
    "# \"api.openweathermap.org/data/2.5/weather?q={city name}&appid={API key}\"\n",
    "# api.openweathermap.org/data/2.5/find?q=London&units=imperial"
   ]
  },
  {
   "cell_type": "code",
   "execution_count": null,
   "metadata": {},
   "outputs": [],
   "source": [
    "city=\"albany\"\n",
    "units=\"metric\""
   ]
  },
  {
   "cell_type": "code",
   "execution_count": null,
   "metadata": {},
   "outputs": [],
   "source": [
    "query_url = f\"{url}appid={weather_api_key}&q={city}&units={units}\""
   ]
  },
  {
   "cell_type": "code",
   "execution_count": null,
   "metadata": {},
   "outputs": [],
   "source": [
    "weather_response=requests.get(query_url)"
   ]
  },
  {
   "cell_type": "code",
   "execution_count": null,
   "metadata": {},
   "outputs": [],
   "source": [
    "weather_json=weather_response.json()"
   ]
  },
  {
   "cell_type": "code",
   "execution_count": null,
   "metadata": {},
   "outputs": [],
   "source": [
    "# weather_json"
   ]
  },
  {
   "cell_type": "code",
   "execution_count": null,
   "metadata": {},
   "outputs": [],
   "source": [
    "# np.random.uniform(0.0, 1.0, size = (5,2))"
   ]
  },
  {
   "cell_type": "code",
   "execution_count": null,
   "metadata": {},
   "outputs": [],
   "source": []
  },
  {
   "cell_type": "code",
   "execution_count": null,
   "metadata": {},
   "outputs": [],
   "source": []
  },
  {
   "cell_type": "code",
   "execution_count": null,
   "metadata": {},
   "outputs": [],
   "source": []
  },
  {
   "cell_type": "code",
   "execution_count": null,
   "metadata": {},
   "outputs": [],
   "source": [
    "# city_data_path = 'city.list.json.gz'\n",
    "# city_ids = pd.read_json(city_data_path, compression='gzip')\n",
    "# #generate random selection of 500 cities\n",
    "# city_ids.sample(500)"
   ]
  },
  {
   "cell_type": "markdown",
   "metadata": {},
   "source": [
    "## Generate Cities List"
   ]
  },
  {
   "cell_type": "code",
   "execution_count": 14,
   "metadata": {},
   "outputs": [],
   "source": [
    "lat_lngl=[]\n",
    "citiesl=[]"
   ]
  },
  {
   "cell_type": "code",
   "execution_count": 9,
   "metadata": {},
   "outputs": [
    {
     "data": {
      "text/plain": [
       "array([-12.44902329,  53.48382872,  56.51288   ,  15.2675051 ,\n",
       "       -31.34736387, -40.77879941, -63.8460103 ,  49.11381209,\n",
       "       -32.28673556, -38.57431613,  33.31595805,  53.5182852 ,\n",
       "       -29.2174037 ,  44.6455926 ,  30.80236272,  52.8919104 ,\n",
       "        68.47343503, -71.09718203, -70.40924055,  10.16589836,\n",
       "        11.25557826,  45.91846589,  13.79533556,  84.2893593 ,\n",
       "        83.98115054, -26.49864849, -67.03770841,  31.47428463,\n",
       "        66.47862977, -56.65395419, -15.93692273,  18.8578887 ,\n",
       "       -57.14656074, -46.21471886,  35.91021974, -25.31654495,\n",
       "       -25.05582137, -17.78360722, -73.64461531,  -9.21017688,\n",
       "       -55.27854185,  20.79868971, -18.22574987, -79.57336608,\n",
       "        80.97864283,  28.3861983 ,  63.45567981, -55.34522959,\n",
       "        10.68804636, -29.84931658,   3.70930284, -46.87608562,\n",
       "       -12.29623167,   5.72370766, -77.15901726,  46.42650228,\n",
       "        14.3702281 ,   2.01903517, -15.26129533, -40.96154671,\n",
       "         4.72903222,  11.28939807,  59.16974588, -67.99607831,\n",
       "        44.80934881, -42.35819836,  68.71737704, -30.02731212,\n",
       "        64.20849556,  24.14209281,  -8.28755814, -33.15951257,\n",
       "       -16.30455182, -64.18752613, -69.9056378 , -72.22558203,\n",
       "        50.69636466,  57.7638892 ,  11.38770316,  74.24618151,\n",
       "       -77.49665244, -73.64229368, -87.20229629,  55.20893888,\n",
       "       -24.67934889,  84.65788497, -79.3389336 , -34.10357509,\n",
       "       -70.39775209,  26.81616573, -15.35859983,  41.93246426,\n",
       "       -16.97922072, -83.61743127,  57.19328026,  54.23322487,\n",
       "       -66.68195469,  16.12846169, -52.31255492,  -8.5306552 ,\n",
       "       -79.58983932,  37.00766708,  63.55850837,  81.09638502,\n",
       "       -29.49030365,  62.07983975, -55.62143473,  71.50025819,\n",
       "         9.96657916, -44.2911187 ,  38.45512138, -84.62447454,\n",
       "       -13.79282146,  55.53429252,  31.67058254,  18.61893553,\n",
       "         4.47724622,  58.67969625,  66.29684064,  23.7361563 ,\n",
       "        -6.54964084, -21.50656623,  46.61138585, -75.25740661,\n",
       "       -48.52496929,  77.75391834,  80.34874793, -32.89712898,\n",
       "       -64.14709852,  84.52462141, -32.74463807, -22.65634968,\n",
       "         5.13083784, -74.70392893,  85.71935164, -62.30176559,\n",
       "        22.17638672, -33.03208334,  20.10418744,  14.70076035,\n",
       "        75.47140847,  63.33094748, -34.65826978,  -8.34607329,\n",
       "       -61.40082352, -22.01365949, -15.15604336,  31.78781463,\n",
       "       -13.24205276,  74.07954336,   6.69169257, -66.3070808 ,\n",
       "        16.37545853,  43.75649476,  47.67313119, -21.76593207,\n",
       "         4.32793606,  -2.78190999,  44.30718165, -74.77203549,\n",
       "       -46.13872464,  45.27496134, -84.2301456 ,  82.66441792,\n",
       "       -12.29086818, -12.09124418, -22.99962088,  61.8149637 ,\n",
       "       -71.92562616, -84.77555028, -36.08650165,  48.87126453,\n",
       "        70.97834691, -10.92388024,   4.60312484,  16.58003893,\n",
       "        76.94757957, -51.97881127,  63.85413278, -39.18001473,\n",
       "        72.83715078,   6.99364347, -17.40734922,  69.07498728,\n",
       "       -88.62563152,  18.32658939,  54.42484907,  35.8037608 ,\n",
       "       -36.70667306, -70.81519229,  47.33541261, -86.87264959,\n",
       "        15.98621883,  51.37909249,  57.38995226, -24.9644193 ,\n",
       "       -73.10655332, -84.30602315, -14.82541012,  59.1725728 ,\n",
       "        73.48531604, -68.74512135,  25.87357012, -55.48715094,\n",
       "       -60.86988878,  89.28354629,  10.17674985,  88.51340704,\n",
       "        64.55043296, -77.1788122 ,  10.58537435, -38.35512177,\n",
       "       -42.19833509,  67.80191231, -48.25061441,  32.28894742,\n",
       "       -67.47998979,  30.28774346, -43.08904409, -80.3446473 ,\n",
       "         6.7079657 ,   9.42544417,  50.50124973, -22.62319429,\n",
       "        78.32695704,  72.98026875,  54.61370982, -71.64579313,\n",
       "         7.89562901, -46.19200991,  -3.25669096,  12.04896014,\n",
       "       -64.75771528,  47.5329205 ,   7.66749169, -79.2134935 ,\n",
       "        48.72077282,  17.5277462 ,  77.59663147,  38.07191371,\n",
       "       -47.23554756, -39.04301972,  74.12708204, -46.34909358,\n",
       "       -84.15641133,  86.24032633,  68.0727325 ,   8.94496125,\n",
       "        52.34006417,  40.18222525, -32.21861509, -80.14341122,\n",
       "        19.1819468 , -36.9212143 ,  25.72075163,  50.84794066,\n",
       "         9.15706984, -22.56444678,  27.79457467, -65.47391613,\n",
       "       -60.94174474, -48.26099969, -47.11427214, -73.03231037,\n",
       "        41.96635562,  30.37293204,  25.08667408,  -1.32040748,\n",
       "       -32.55548789, -71.32747258,  88.17801022, -47.43500481,\n",
       "        45.49212105,   5.44812301,  11.72274089,  47.48529437,\n",
       "       -54.29038378, -41.26688553,  -9.4796402 ,  22.81079897,\n",
       "       -42.57494326,  15.75733573, -59.41507714,  60.57036019,\n",
       "        85.87332205,  71.49218889, -25.8465328 ,  10.63414915,\n",
       "        15.39969439,  38.10192541, -84.66970238, -18.11549274,\n",
       "        39.00320068,  20.04088478,  38.3090022 ,  70.31795673,\n",
       "        -7.38086076, -13.48031945,  64.62106166,  -4.5735537 ,\n",
       "       -82.54142424, -20.60838026,  51.20423286, -42.77195795,\n",
       "        58.63125245, -27.43430133,  20.45705269,  75.63013424,\n",
       "        41.78139256, -76.26621259,  49.636385  , -50.87291258,\n",
       "        25.13537802,  56.97364914,  -2.44865342, -49.34560698,\n",
       "        -3.34819777,  17.79761507, -80.69056496,  39.91372686,\n",
       "        24.40171429,  36.6495813 ,  19.49377771,  30.38084376,\n",
       "       -80.85213398, -53.11592732,  33.05611196,  -8.76566953,\n",
       "       -41.93653545,  -1.29202469,  86.12850434, -84.16627322,\n",
       "        12.10117656, -85.97423872,  16.9440068 ,   9.94755579,\n",
       "       -79.73638657,  46.8269803 , -24.9757764 ,  -4.38283181,\n",
       "       -32.57179064,  82.5478849 ,  63.64585985,  59.83358591,\n",
       "        82.56602115,  72.62332292,   8.22790951,  41.01381122,\n",
       "        79.24236702, -27.23229446,  22.01937392, -15.04889285,\n",
       "        45.62023947, -63.19241681, -66.4511467 ,  39.64709964,\n",
       "        64.65121589, -56.26774078,  59.17636844, -81.02846721,\n",
       "       -64.57610149,  60.04970179, -13.00204941,  12.97875357,\n",
       "        72.57723006,  81.8535374 ,  13.31895033,  -9.52624397,\n",
       "        39.01639274,  22.16670498,  69.03036165,  69.80972769,\n",
       "        -3.13583633,  80.76094151, -17.4424133 ,  72.61002234,\n",
       "        85.32485753, -28.8604205 ,  -4.08618105,  52.96848994,\n",
       "        33.05593657,  83.56896869, -71.11380112, -36.91432851,\n",
       "        64.8763038 , -86.68369153,  52.56418623,  41.04712039,\n",
       "       -24.9573515 , -43.45098661,  75.85389043,  29.8806178 ,\n",
       "       -39.83166801, -11.71202437,  84.41748095, -86.29373962,\n",
       "        65.66385667,   2.98773956,  39.98844126, -56.03808071,\n",
       "       -68.96755592,   1.16844689,  55.24837756, -26.35592607,\n",
       "        15.88234003,  23.9517006 ,  79.69829493, -34.37747442,\n",
       "        20.0247482 , -40.8980804 , -26.23664111, -81.75619452,\n",
       "        32.99729857,  38.89999953,  46.95084361, -10.60883137,\n",
       "        -7.32967961, -40.1995132 , -32.56392713, -70.5306987 ,\n",
       "        41.2338653 , -46.83745027, -72.28616031,   4.98671916,\n",
       "       -49.29001728,  61.87040062, -27.86790673, -10.80690054,\n",
       "        55.68523992, -27.02627805,  80.16571134, -29.47693799,\n",
       "         7.80821964,  -3.89986152,  52.05877604, -42.96402815,\n",
       "        19.50434607, -20.52452251,  52.74048006,  43.62458666,\n",
       "       -38.55943298, -32.32150926, -48.26189863,  -1.07135805,\n",
       "        40.81851402, -18.50278699,  15.21440157, -25.29183384,\n",
       "        40.03655927,  33.89601158, -26.94540361, -13.75389359,\n",
       "       -43.63985073,  47.75789318,  77.8163649 , -18.56410496,\n",
       "        25.35155177, -29.39773618,  56.94239612,  39.37887515,\n",
       "       -20.38301005, -84.04663563, -51.97073679,  69.54483218,\n",
       "         4.59063321,  10.33983356,  -6.21899806, -49.96312223,\n",
       "       -84.4437397 , -54.13450315,  25.47124114,  52.05166373,\n",
       "        45.68076647, -39.84595502,  17.81636956,  -8.90654785,\n",
       "        11.1832824 ,   1.41215638,  22.44885603,  21.74790434,\n",
       "       -67.38299644, -12.87922684,  11.60601566,  41.97460785,\n",
       "         4.17263889,  60.99071114,  84.87064542,  64.34780903,\n",
       "       -11.73651921, -27.48242177, -60.46595176, -74.82505902,\n",
       "       -43.06002281,  21.48285939,  27.23447801, -35.27385839,\n",
       "       -23.90489301,  68.52647887,  30.05151633, -54.68372491])"
      ]
     },
     "execution_count": 9,
     "metadata": {},
     "output_type": "execute_result"
    }
   ],
   "source": [
    "latr=np.random.uniform(-90.00, 90.00, size =500)\n",
    "latr"
   ]
  },
  {
   "cell_type": "code",
   "execution_count": 43,
   "metadata": {},
   "outputs": [
    {
     "data": {
      "text/plain": [
       "array([-1.00887461e+02, -1.61062371e+02, -7.05544042e+01,  1.10187952e+02,\n",
       "       -1.31385754e+02, -5.85856049e+01,  1.23726220e+02, -1.39038238e+02,\n",
       "        7.02071895e+01, -1.04565308e+02,  1.55663979e+02,  1.06321363e+02,\n",
       "       -8.30415318e+01,  3.99403443e+01,  5.04077208e+01,  3.73756551e+01,\n",
       "        1.09306597e+02,  8.56935626e+01,  6.58047221e+01, -1.36524090e+02,\n",
       "       -1.21735605e+02,  9.82301658e+01, -6.10711786e+01, -1.38354509e+02,\n",
       "        5.99873390e+01, -9.83266641e+01,  1.10526080e+02,  1.71945332e+02,\n",
       "        5.99022662e+00,  8.50498401e+01,  7.34789940e+01, -1.02526895e+02,\n",
       "        2.27431992e+01, -1.07746333e+02,  1.49525860e+01, -6.69510148e+01,\n",
       "       -3.42679593e+00,  1.49236148e+02, -7.03157661e+01, -1.28330237e+02,\n",
       "        5.18529595e+01,  5.99710408e+01,  4.72758201e+01,  4.78995875e+01,\n",
       "       -1.67974551e+02, -1.94349567e+01,  1.60064826e+02,  9.00963435e+01,\n",
       "       -5.99251257e+01, -1.26645397e+02, -9.80271187e+01, -4.91815556e+01,\n",
       "       -1.04380640e+02,  1.32664449e+01,  1.36063831e+02,  4.24391181e+01,\n",
       "        6.68453714e+01, -3.97822110e+01, -1.45247650e+02,  1.99875797e+01,\n",
       "       -1.08808963e+02, -1.17203554e+02, -1.16686179e+02,  6.37102293e+01,\n",
       "        1.15281990e+02, -1.37098878e+02, -1.62019607e+01, -1.28046357e+02,\n",
       "        1.33248045e+02, -1.28028375e+02, -7.84027683e+01,  1.00889993e+02,\n",
       "        8.36543361e+01, -2.79841110e+01, -6.33038939e+01,  1.53046064e+02,\n",
       "       -9.33102817e+01, -2.29267510e+01,  7.57147267e+01,  1.68064857e+02,\n",
       "       -1.09077528e+02,  1.16748663e+02, -1.65640872e+02,  7.67355675e+01,\n",
       "        7.78364090e+01, -6.54194554e+01, -1.37706613e+02,  8.03911828e-02,\n",
       "       -8.25874835e+01,  1.74606850e+02,  1.67254767e+02, -9.64749774e+01,\n",
       "       -1.29763640e+02,  1.51673845e+01, -1.35408481e+02, -1.66352016e+02,\n",
       "        3.88927043e+01,  2.95691112e+01,  1.65612984e+02, -2.81279173e+01,\n",
       "       -1.00218365e+02,  1.15717695e+02, -1.16546070e+02, -5.75563005e+01,\n",
       "        1.35859087e+02,  1.67548422e+02,  2.13567602e+01, -8.72809746e+01,\n",
       "        1.10940691e+02, -2.72798171e+01, -1.45217423e+02,  1.65413664e+02,\n",
       "       -9.97608198e+01, -1.59316477e+02,  7.45131178e+01, -6.57543553e+01,\n",
       "        1.31074652e+02,  8.81995541e+01,  1.18715199e+02, -7.17505177e+01,\n",
       "        7.27213878e+01, -5.01923654e+01, -6.52098646e+01,  6.49255247e+01,\n",
       "       -5.37204606e+01,  5.13060517e+01, -8.25493849e+01, -5.34536202e+01,\n",
       "        1.58007303e+02, -9.68041427e+01, -2.73564886e+01,  4.55592914e+00,\n",
       "       -3.66543980e+01,  1.57223627e+02, -1.64906709e+02,  4.46892283e+01,\n",
       "        1.77975506e+02,  1.21604986e+02,  6.64519695e+01, -2.13593935e+01,\n",
       "        9.42643233e+01,  6.24069629e+01,  2.18210107e+01,  8.08734562e+01,\n",
       "       -1.33086090e+02, -1.43591706e+02,  1.03703241e+02, -5.17505926e+01,\n",
       "        1.36102220e+02, -4.62601450e+01, -1.69624981e+02,  1.16225297e+02,\n",
       "       -9.94272180e+01,  1.15528840e+02, -5.47382384e+01,  4.62704210e+00,\n",
       "       -1.87212671e+01,  2.81932992e+01,  1.32638802e+02,  3.81222102e+01,\n",
       "       -1.02724305e+02,  8.88112726e+01,  2.29314632e+01,  7.50804187e+01,\n",
       "       -1.41916067e+02,  2.80401296e+01, -4.89750347e+01, -1.69204672e+02,\n",
       "        4.07496527e+01,  2.65760099e+01, -1.16253708e+02,  1.46553737e+02,\n",
       "       -8.20869349e+01, -6.26914817e+00, -1.09696485e+02,  1.33832984e+02,\n",
       "       -1.34733690e+02, -3.43725304e+01, -1.22998890e+02, -9.34334734e+01,\n",
       "        9.17582518e+01,  9.31290873e+01,  1.10382513e+00,  1.19080628e+02,\n",
       "       -5.54769074e+01, -1.20004934e+01,  3.15935299e+01,  1.44092052e+02,\n",
       "        5.72386447e+01,  2.36632843e+01,  9.34695594e+01,  1.76993732e+02,\n",
       "       -1.20668089e+02,  1.28611764e+02, -1.59481236e+02,  1.60896737e+02,\n",
       "       -1.57501753e+02,  1.56290327e+02, -3.57598834e+01,  1.37886581e+02,\n",
       "       -1.38569808e+02, -1.16990208e+01,  8.52339127e+01,  5.56783493e+01,\n",
       "        1.24583071e+02,  1.38589445e+02, -1.53980293e+02,  3.96165884e+01,\n",
       "       -3.44540256e+01,  9.66830549e+01, -1.14131310e+02,  1.50789999e+02,\n",
       "       -4.51377176e+00, -9.79342218e+01, -9.90745910e+01, -1.73444266e+02,\n",
       "       -1.70680199e+02, -1.31213692e+02, -5.67663467e+01,  1.23468273e+02,\n",
       "       -6.75654668e+01,  7.15432552e+01,  2.48248873e+01,  8.75986453e+00,\n",
       "        6.92497942e+01, -5.10498731e+01,  8.58226753e+01,  5.55485694e+01,\n",
       "        1.75304646e+02, -1.15176035e+02, -8.39402644e+01, -9.33366615e+01,\n",
       "        8.55464297e+01, -1.70379805e+02,  1.18902576e+02, -1.48628118e+02,\n",
       "       -1.70000871e+02, -1.29221851e+02, -8.27900795e+01,  4.55631233e+00,\n",
       "       -1.14539508e+02, -1.01685323e+02,  3.86370329e+01,  1.51307518e+02,\n",
       "        1.27623224e+02,  1.59682426e+02, -3.74516393e+01,  3.72856562e+01,\n",
       "       -5.37571319e+01,  1.04830905e+02, -9.97794149e+01,  8.74624713e+01,\n",
       "       -1.46362925e+02,  7.55106326e+01, -1.74499804e+01, -1.54223619e+02,\n",
       "        1.77072045e+02, -1.22153206e+02, -8.81477883e+01,  5.54545652e+01,\n",
       "       -1.19423418e+02, -3.94561972e+01, -1.10042034e+02, -1.15152743e+02,\n",
       "       -1.39934257e+02, -5.12108774e+00,  1.76988612e+02, -1.64807134e+01,\n",
       "        7.13120904e+01, -1.21897877e+02,  1.10068972e+02,  1.57149476e+02,\n",
       "       -3.00839050e+01,  1.14827983e+01, -1.40802262e+02, -1.37787871e+01,\n",
       "       -7.66724001e+01, -1.36859787e+02,  5.84636786e+01,  1.31413390e+02,\n",
       "        1.60586411e+02, -4.71032500e+01, -9.04915517e+01,  1.24900286e+02,\n",
       "       -2.97218711e+01,  1.72042165e+02, -8.18355639e+01, -8.04869384e+01,\n",
       "        6.86243888e+01, -6.48952622e+01, -1.42272092e+02,  1.00464518e+01,\n",
       "        1.37664525e+02,  8.25508202e+01,  7.58301979e+01, -1.09690677e+02,\n",
       "       -1.27324324e+02,  4.62813405e+01,  1.34335952e+02,  1.62685936e+02,\n",
       "        4.49857651e+01,  1.20425795e+02,  1.34680892e+02, -1.47788079e+02,\n",
       "        1.05181016e+02, -1.64121337e+02, -9.91444903e+01, -1.64546986e+02,\n",
       "        2.83277812e+00,  1.00707476e+02, -4.05496376e+01, -5.59145521e+01,\n",
       "       -4.51723831e+01,  3.81004946e+01,  1.43749496e+02, -1.01747521e+02,\n",
       "       -5.47183973e+01, -1.32670621e+02, -9.75548504e+01,  1.75594767e+02,\n",
       "       -1.21674423e+02, -3.11795893e+00,  1.69464253e+02, -4.36548472e+01,\n",
       "        1.08109230e+02, -1.13001455e+02, -5.46774159e+00,  9.53439162e+01,\n",
       "        2.82622955e+01, -1.64145975e+02,  6.92292410e+01, -7.66237596e+01,\n",
       "       -1.69101043e+02, -5.55930479e+00, -6.57659956e+01, -1.52294020e+02,\n",
       "        3.61860884e+01,  1.62418485e+02,  5.23354118e+01, -1.49384827e+01,\n",
       "       -1.58248361e+02, -2.78243570e+01, -1.06737151e+02, -9.97586178e+01,\n",
       "       -1.40332271e+02,  5.45164601e+01, -7.34312082e+01,  1.51274926e+02,\n",
       "        1.72052423e+02, -1.63417737e+02,  1.51139481e+02, -6.19716526e+01,\n",
       "       -1.54431131e+02,  1.20161853e+02,  7.92939492e+01, -5.64546593e+01,\n",
       "        1.72830702e+02,  1.10062324e+02,  1.41696855e+02,  1.50101241e+00,\n",
       "        1.64369165e+02, -7.42941559e+01,  1.30058296e+02, -1.08472384e+02,\n",
       "        5.56987378e+01,  9.80264762e+01, -5.53017107e+01, -4.30219955e+01,\n",
       "        1.25335426e+02, -1.43382197e+02,  6.86416419e+01, -9.06127240e+00,\n",
       "        1.20270310e+02, -1.60990763e+02, -6.07993021e+01,  8.13156441e+01,\n",
       "        1.42746489e+02, -8.14509675e+01,  1.67609703e+02,  1.59859760e+02,\n",
       "        1.45477919e+02, -8.97032891e+01,  1.09075822e+02, -3.14606707e+01,\n",
       "        1.14495387e+02, -1.29396514e+02,  1.70328009e+02,  2.93265733e+01,\n",
       "       -1.15696473e+02, -7.67630180e+00,  1.77737782e+02,  7.37442065e+01,\n",
       "        1.43771964e+02, -1.91478235e+01,  8.41325437e+01,  1.19288267e+02,\n",
       "       -4.54264751e+01, -1.63017858e+02,  4.68464698e+01, -1.52275085e+02,\n",
       "        8.16260086e+01,  1.01498002e+02, -6.89059411e+01,  9.46320127e+01,\n",
       "        1.63909260e+02,  1.52191769e+02, -6.95344597e+01,  1.36256240e+02,\n",
       "        1.73080815e+00,  1.25909538e+02, -1.43909250e+01, -1.33814632e+02,\n",
       "       -1.19828196e+02,  5.40104249e+00,  1.09577844e+02, -1.11726969e+02,\n",
       "        9.24206755e+01, -2.42514484e+01,  4.64834666e+01, -5.05472042e+01,\n",
       "       -9.02580251e+01, -5.00793136e+01, -1.17672498e+02, -6.97403957e+01,\n",
       "        1.77997901e+01,  3.60694136e+01,  1.74335727e+02, -2.38273830e+01,\n",
       "        1.75500258e+02,  6.06101157e+01,  4.50977395e+01, -3.53716501e+01,\n",
       "        1.71006682e+01, -1.55940123e+02,  6.58378674e+00,  3.38536568e+01,\n",
       "       -1.46466005e+02,  8.98898289e+01, -1.01633096e+02,  1.23003725e+02,\n",
       "        4.87088972e+01, -1.46763314e+02,  1.54089819e+02,  9.88480424e+01,\n",
       "        1.32673514e+02,  1.69569153e+02,  1.63996637e+02, -6.10944403e+01,\n",
       "        1.79532039e+02, -1.60826607e+02,  1.58610549e+02,  1.14190258e+02,\n",
       "        1.72401923e+02,  1.19059108e+02,  1.44333931e+02, -1.67980083e+02,\n",
       "       -9.76757187e+01, -1.73779587e+02, -4.55183928e+01,  1.60250033e+02,\n",
       "        1.23522347e+01, -1.11360540e+02, -9.70911266e+01, -1.39508448e+02,\n",
       "        9.11775508e+01, -1.28320092e+02, -1.86310537e+01,  2.86638739e+01,\n",
       "       -1.25325259e+01,  4.18554386e+01,  1.43378446e+02, -7.17705441e+00,\n",
       "       -1.70790197e+02,  1.32982809e+02,  1.78687506e+02,  1.20293826e+02,\n",
       "       -1.35029509e+02, -1.67532319e+02, -1.56105682e+01, -1.55321616e+02,\n",
       "        6.73251103e+01,  6.83455870e+01,  1.73265451e+02,  1.41268849e+02,\n",
       "       -6.04810386e+01, -1.70928414e+02,  1.67577583e+02,  1.25713108e+02,\n",
       "        6.30758461e+00,  8.60415388e+01,  1.41674342e+02,  9.45681056e+01,\n",
       "        4.24629829e+01, -1.20865874e+00,  2.36035320e+01, -7.24118770e+01,\n",
       "       -8.53405970e+01,  9.40429642e+01, -1.97319154e+01, -1.42736256e+02])"
      ]
     },
     "execution_count": 43,
     "metadata": {},
     "output_type": "execute_result"
    }
   ],
   "source": [
    "lngr=np.random.uniform(-180.00, 180.00, size =500)\n",
    "lngr"
   ]
  },
  {
   "cell_type": "code",
   "execution_count": 70,
   "metadata": {},
   "outputs": [
    {
     "data": {
      "text/plain": [
       "-100.8874605934014"
      ]
     },
     "execution_count": 70,
     "metadata": {},
     "output_type": "execute_result"
    }
   ],
   "source": [
    "# lat_lngl=(latr,lngr)\n",
    "list_latlng=next(zip(latr,lngr))\n",
    "list_latlng[1]"
   ]
  },
  {
   "cell_type": "code",
   "execution_count": 83,
   "metadata": {},
   "outputs": [],
   "source": [
    "for lat_and_lng in list_latlng:\n",
    "    city = citipy.nearest_city(lat_and_lng,lat_and_lng)\n",
    "    city_name=city.city_name\n",
    "    cities.append(city_name)\n"
   ]
  },
  {
   "cell_type": "code",
   "execution_count": null,
   "metadata": {},
   "outputs": [],
   "source": []
  },
  {
   "cell_type": "code",
   "execution_count": null,
   "metadata": {},
   "outputs": [],
   "source": []
  },
  {
   "cell_type": "code",
   "execution_count": 18,
   "metadata": {},
   "outputs": [],
   "source": [
    "# coordinates = []\n",
    "# for y in lngr:\n",
    "#     for x in latr:\n",
    "#         coordinates.append((x,y))\n",
    "# # print(coordinates)"
   ]
  },
  {
   "cell_type": "code",
   "execution_count": 20,
   "metadata": {},
   "outputs": [],
   "source": [
    "# >>> from citipy import citipy\n",
    "# >>> city = citipy.nearest_city(22.99, 120.21)\n",
    "# >>> city\n",
    "# <citipy.City instance at 0x1069b6518>\n",
    "# >>>\n",
    "# >>> city.city_name     # Tainan, my home town\n",
    "# 'tainan'\n",
    "# >>>\n",
    "# >>> city.country_code\n",
    "# 'tw'                  "
   ]
  },
  {
   "cell_type": "code",
   "execution_count": null,
   "metadata": {},
   "outputs": [],
   "source": [
    "# cities=[]\n",
    "# responses=[]"
   ]
  },
  {
   "cell_type": "code",
   "execution_count": null,
   "metadata": {},
   "outputs": [],
   "source": [
    "# City=[]\n",
    "# Lat=[]\n",
    "# Lng=[]\n",
    "# Max_Temp=[]\n",
    "# Humidity=[]\n",
    "# Cloudiness=[]\n",
    "# Wind_Speed=[]\n",
    "# Country=[]\n",
    "# Date=[]"
   ]
  },
  {
   "cell_type": "code",
   "execution_count": null,
   "metadata": {},
   "outputs": [],
   "source": [
    "# for city in responses:\n",
    "#     weather_data=requests.get(query_url)\n",
    "#     weather_json=weather_data.json()\n",
    "#     Lat.append(weather_json[][])\n",
    "# Lng.append(weather_json[][])\n",
    "# Max_Temp.append(weather_json[][])\n",
    "# Humidity.append(weather_json[][])\n",
    "# Cloudiness.append(weather_json[][])\n",
    "# Wind Speed.append(weather_json[][])\n",
    "# Country.append(weather_json[][])\n",
    "# Date.append(weather_json[][])"
   ]
  },
  {
   "cell_type": "code",
   "execution_count": null,
   "metadata": {},
   "outputs": [],
   "source": []
  },
  {
   "cell_type": "code",
   "execution_count": null,
   "metadata": {},
   "outputs": [],
   "source": [
    "# print(\"Beginning Data Retrieval\")     \n",
    "# print(\"-----------------------------\")"
   ]
  },
  {
   "cell_type": "code",
   "execution_count": null,
   "metadata": {},
   "outputs": [],
   "source": [
    "# print(f\"Processing Record 1 of Set 1 | {city}\")"
   ]
  },
  {
   "cell_type": "code",
   "execution_count": null,
   "metadata": {},
   "outputs": [],
   "source": [
    "# print(\"City not found. Skipping...\")"
   ]
  },
  {
   "cell_type": "code",
   "execution_count": null,
   "metadata": {},
   "outputs": [],
   "source": [
    "# >>> from citipy import citipy\n",
    "# >>> city = citipy.nearest_city(22.99, 120.21)\n",
    "# >>> city\n",
    "# <citipy.City instance at 0x1069b6518>\n",
    "# >>>\n",
    "# >>> city.city_name     # Tainan, my home town\n",
    "# 'tainan'\n",
    "# >>>\n",
    "# >>> city.country_code\n",
    "# 'tw'                "
   ]
  },
  {
   "cell_type": "markdown",
   "metadata": {},
   "source": [
    "### Perform API Calls\n",
    "* Perform a weather check on each city using a series of successive API calls.\n",
    "* Include a print log of each city as it'sbeing processed (with the city number and city name).\n"
   ]
  },
  {
   "cell_type": "code",
   "execution_count": null,
   "metadata": {},
   "outputs": [],
   "source": []
  },
  {
   "cell_type": "code",
   "execution_count": null,
   "metadata": {},
   "outputs": [],
   "source": []
  },
  {
   "cell_type": "code",
   "execution_count": null,
   "metadata": {},
   "outputs": [],
   "source": []
  },
  {
   "cell_type": "code",
   "execution_count": null,
   "metadata": {},
   "outputs": [],
   "source": []
  },
  {
   "cell_type": "code",
   "execution_count": null,
   "metadata": {},
   "outputs": [],
   "source": []
  },
  {
   "cell_type": "code",
   "execution_count": null,
   "metadata": {
    "scrolled": true
   },
   "outputs": [],
   "source": []
  },
  {
   "cell_type": "markdown",
   "metadata": {},
   "source": [
    "### Convert Raw Data to DataFrame\n",
    "* Export the city data into a .csv.\n",
    "* Display the DataFrame"
   ]
  },
  {
   "cell_type": "code",
   "execution_count": null,
   "metadata": {},
   "outputs": [],
   "source": []
  },
  {
   "cell_type": "code",
   "execution_count": null,
   "metadata": {},
   "outputs": [],
   "source": []
  },
  {
   "cell_type": "markdown",
   "metadata": {},
   "source": [
    "## Inspect the data and remove the cities where the humidity > 100%.\n",
    "----\n",
    "Skip this step if there are no cities that have humidity > 100%. "
   ]
  },
  {
   "cell_type": "code",
   "execution_count": null,
   "metadata": {},
   "outputs": [],
   "source": []
  },
  {
   "cell_type": "code",
   "execution_count": null,
   "metadata": {},
   "outputs": [],
   "source": [
    "#  Get the indices of cities that have humidity over 100%.\n"
   ]
  },
  {
   "cell_type": "code",
   "execution_count": null,
   "metadata": {},
   "outputs": [],
   "source": [
    "# Make a new DataFrame equal to the city data to drop all humidity outliers by index.\n",
    "# Passing \"inplace=False\" will make a copy of the city_data DataFrame, which we call \"clean_city_data\".\n"
   ]
  },
  {
   "cell_type": "code",
   "execution_count": null,
   "metadata": {},
   "outputs": [],
   "source": [
    "\n"
   ]
  },
  {
   "cell_type": "markdown",
   "metadata": {},
   "source": [
    "## Plotting the Data\n",
    "* Use proper labeling of the plots using plot titles (including date of analysis) and axes labels.\n",
    "* Save the plotted figures as .pngs."
   ]
  },
  {
   "cell_type": "markdown",
   "metadata": {},
   "source": [
    "## Latitude vs. Temperature Plot"
   ]
  },
  {
   "cell_type": "code",
   "execution_count": null,
   "metadata": {
    "scrolled": true
   },
   "outputs": [],
   "source": []
  },
  {
   "cell_type": "markdown",
   "metadata": {},
   "source": [
    "## Latitude vs. Humidity Plot"
   ]
  },
  {
   "cell_type": "code",
   "execution_count": null,
   "metadata": {},
   "outputs": [],
   "source": []
  },
  {
   "cell_type": "markdown",
   "metadata": {},
   "source": [
    "## Latitude vs. Cloudiness Plot"
   ]
  },
  {
   "cell_type": "code",
   "execution_count": null,
   "metadata": {},
   "outputs": [],
   "source": []
  },
  {
   "cell_type": "markdown",
   "metadata": {},
   "source": [
    "## Latitude vs. Wind Speed Plot"
   ]
  },
  {
   "cell_type": "code",
   "execution_count": null,
   "metadata": {},
   "outputs": [],
   "source": []
  },
  {
   "cell_type": "markdown",
   "metadata": {},
   "source": [
    "## Linear Regression"
   ]
  },
  {
   "cell_type": "code",
   "execution_count": null,
   "metadata": {},
   "outputs": [],
   "source": []
  },
  {
   "cell_type": "markdown",
   "metadata": {},
   "source": [
    "####  Northern Hemisphere - Max Temp vs. Latitude Linear Regression"
   ]
  },
  {
   "cell_type": "code",
   "execution_count": null,
   "metadata": {},
   "outputs": [],
   "source": []
  },
  {
   "cell_type": "markdown",
   "metadata": {},
   "source": [
    "####  Southern Hemisphere - Max Temp vs. Latitude Linear Regression"
   ]
  },
  {
   "cell_type": "code",
   "execution_count": null,
   "metadata": {},
   "outputs": [],
   "source": []
  },
  {
   "cell_type": "markdown",
   "metadata": {},
   "source": [
    "####  Northern Hemisphere - Humidity (%) vs. Latitude Linear Regression"
   ]
  },
  {
   "cell_type": "code",
   "execution_count": null,
   "metadata": {},
   "outputs": [],
   "source": []
  },
  {
   "cell_type": "markdown",
   "metadata": {},
   "source": [
    "####  Southern Hemisphere - Humidity (%) vs. Latitude Linear Regression"
   ]
  },
  {
   "cell_type": "code",
   "execution_count": null,
   "metadata": {},
   "outputs": [],
   "source": []
  },
  {
   "cell_type": "markdown",
   "metadata": {},
   "source": [
    "####  Northern Hemisphere - Cloudiness (%) vs. Latitude Linear Regression"
   ]
  },
  {
   "cell_type": "code",
   "execution_count": null,
   "metadata": {},
   "outputs": [],
   "source": []
  },
  {
   "cell_type": "markdown",
   "metadata": {},
   "source": [
    "####  Southern Hemisphere - Cloudiness (%) vs. Latitude Linear Regression"
   ]
  },
  {
   "cell_type": "code",
   "execution_count": null,
   "metadata": {},
   "outputs": [],
   "source": []
  },
  {
   "cell_type": "markdown",
   "metadata": {},
   "source": [
    "####  Northern Hemisphere - Wind Speed (mph) vs. Latitude Linear Regression"
   ]
  },
  {
   "cell_type": "code",
   "execution_count": null,
   "metadata": {},
   "outputs": [],
   "source": []
  },
  {
   "cell_type": "markdown",
   "metadata": {},
   "source": [
    "####  Southern Hemisphere - Wind Speed (mph) vs. Latitude Linear Regression"
   ]
  },
  {
   "cell_type": "code",
   "execution_count": null,
   "metadata": {},
   "outputs": [],
   "source": []
  },
  {
   "cell_type": "code",
   "execution_count": null,
   "metadata": {},
   "outputs": [],
   "source": []
  }
 ],
 "metadata": {
  "anaconda-cloud": {},
  "kernel_info": {
   "name": "python3"
  },
  "kernelspec": {
   "display_name": "Python 3",
   "language": "python",
   "name": "python3"
  },
  "language_info": {
   "codemirror_mode": {
    "name": "ipython",
    "version": 3
   },
   "file_extension": ".py",
   "mimetype": "text/x-python",
   "name": "python",
   "nbconvert_exporter": "python",
   "pygments_lexer": "ipython3",
   "version": "3.6.10"
  },
  "latex_envs": {
   "LaTeX_envs_menu_present": true,
   "autoclose": false,
   "autocomplete": true,
   "bibliofile": "biblio.bib",
   "cite_by": "apalike",
   "current_citInitial": 1,
   "eqLabelWithNumbers": true,
   "eqNumInitial": 1,
   "hotkeys": {
    "equation": "Ctrl-E",
    "itemize": "Ctrl-I"
   },
   "labels_anchors": false,
   "latex_user_defs": false,
   "report_style_numbering": false,
   "user_envs_cfg": false
  },
  "nteract": {
   "version": "0.12.3"
  }
 },
 "nbformat": 4,
 "nbformat_minor": 2
}
